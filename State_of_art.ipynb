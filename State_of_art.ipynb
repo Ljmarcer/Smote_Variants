{
  "nbformat": 4,
  "nbformat_minor": 0,
  "metadata": {
    "colab": {
      "name": "State_of_art.ipynb",
      "provenance": [],
      "collapsed_sections": [
        "0EMlJosAB2gK"
      ],
      "toc_visible": true,
      "include_colab_link": true
    },
    "kernelspec": {
      "name": "python3",
      "display_name": "Python 3"
    },
    "language_info": {
      "name": "python"
    }
  },
  "cells": [
    {
      "cell_type": "markdown",
      "metadata": {
        "id": "view-in-github",
        "colab_type": "text"
      },
      "source": [
        "<a href=\"https://colab.research.google.com/github/Ljmarcer/Smote_Variants/blob/main/State_of_art.ipynb\" target=\"_parent\"><img src=\"https://colab.research.google.com/assets/colab-badge.svg\" alt=\"Open In Colab\"/></a>"
      ]
    },
    {
      "cell_type": "markdown",
      "source": [
        "In order to localize this project, we first need to precisely do an EDA on the models already worked on this dataset obtained from kaggle,"
      ],
      "metadata": {
        "id": "6fuATRwLSdWk"
      }
    },
    {
      "cell_type": "code",
      "source": [
        "import pandas as pd \n",
        "import numpy  as np\n",
        "import sys, os \n",
        "import matplotlib.pyplot as plt\n",
        "import importlib\n",
        "import seaborn as sns\n",
        "import ipykernel"
      ],
      "metadata": {
        "id": "x4tYLqgGSdJb"
      },
      "execution_count": 1,
      "outputs": []
    },
    {
      "cell_type": "code",
      "source": [
        "!pip install odfpy"
      ],
      "metadata": {
        "colab": {
          "base_uri": "https://localhost:8080/"
        },
        "id": "HOyNUaBnxMRc",
        "outputId": "06a2ae09-a88f-41fe-970f-fe9f40f2f738"
      },
      "execution_count": 2,
      "outputs": [
        {
          "output_type": "stream",
          "name": "stdout",
          "text": [
            "Looking in indexes: https://pypi.org/simple, https://us-python.pkg.dev/colab-wheels/public/simple/\n",
            "Collecting odfpy\n",
            "  Downloading odfpy-1.4.1.tar.gz (717 kB)\n",
            "\u001b[K     |████████████████████████████████| 717 kB 5.3 MB/s \n",
            "\u001b[?25hRequirement already satisfied: defusedxml in /usr/local/lib/python3.7/dist-packages (from odfpy) (0.7.1)\n",
            "Building wheels for collected packages: odfpy\n",
            "  Building wheel for odfpy (setup.py) ... \u001b[?25l\u001b[?25hdone\n",
            "  Created wheel for odfpy: filename=odfpy-1.4.1-py2.py3-none-any.whl size=160692 sha256=264f54cf83a80b18c3bf7a953304f293844a4784ab67fb6c43d6e4bf594d2775\n",
            "  Stored in directory: /root/.cache/pip/wheels/e2/f4/5d/a68c656235d33455a1d0f78e877acddfa006907a6d52d7e6ee\n",
            "Successfully built odfpy\n",
            "Installing collected packages: odfpy\n",
            "Successfully installed odfpy-1.4.1\n"
          ]
        }
      ]
    },
    {
      "cell_type": "markdown",
      "source": [
        "# Loading and Cleaning"
      ],
      "metadata": {
        "id": "G8JgdOu_tfTN"
      }
    },
    {
      "cell_type": "code",
      "execution_count": 30,
      "metadata": {
        "colab": {
          "base_uri": "https://localhost:8080/"
        },
        "id": "3AUAu7LjSah9",
        "outputId": "18246966-3372-4eae-eb77-c44aeeab0cac"
      },
      "outputs": [
        {
          "output_type": "stream",
          "name": "stdout",
          "text": [
            "https://drive.google.com/uc?export=download&id=1nY9Y3XJsUJI3MbQtJBkEgNuX9H_dtV_g\n",
            "<class 'pandas.core.frame.DataFrame'>\n",
            "Int64Index: 30 entries, 0 to 29\n",
            "Data columns (total 12 columns):\n",
            " #   Column           Non-Null Count  Dtype \n",
            "---  ------           --------------  ----- \n",
            " 0   ID               30 non-null     int64 \n",
            " 1   Name             30 non-null     object\n",
            " 2   Author           30 non-null     object\n",
            " 3   TypeAlgorithm    30 non-null     object\n",
            " 4   AlgUsed          30 non-null     object\n",
            " 5   MetricUsed       30 non-null     object\n",
            " 6   BestModel        30 non-null     object\n",
            " 7   BestModelValues  30 non-null     object\n",
            " 8   MetricGoal       30 non-null     object\n",
            " 9   SmoteApplied     30 non-null     bool  \n",
            " 10  SmoteVariant     4 non-null      object\n",
            " 11  Comment          6 non-null      object\n",
            "dtypes: bool(1), int64(1), object(10)\n",
            "memory usage: 2.8+ KB\n"
          ]
        }
      ],
      "source": [
        "\n",
        "url ='https://drive.google.com/file/d/1sCMSHux4jQ2rZnn0hgBVGM_tgGa4XsUd/view?usp=sharing'\n",
        "path = 'https://drive.google.com/uc?export=download&id='+url.split('/')[-2]\n",
        "#df = pd.read_csv(path)\n",
        "url2 = 'https://drive.google.com/file/d/1nY9Y3XJsUJI3MbQtJBkEgNuX9H_dtV_g/view?usp=sharing'\n",
        "path2 = 'https://drive.google.com/uc?export=download&id='+url2.split('/')[-2]\n",
        "df_1 = pd.read_csv(path2)\n",
        "print(path2)\n",
        "df= pd.read_excel(path, engine=\"odf\")\n",
        "full_df = df.copy()\n",
        "df = df.dropna(subset=['Name'], how='all')\n",
        "df.info()\n",
        "\n"
      ]
    },
    {
      "cell_type": "code",
      "source": [
        "df"
      ],
      "metadata": {
        "colab": {
          "base_uri": "https://localhost:8080/",
          "height": 0
        },
        "id": "9szXvdYiV7Ho",
        "outputId": "b7cff753-1492-45b2-bc33-793cadbe0494"
      },
      "execution_count": 31,
      "outputs": [
        {
          "output_type": "execute_result",
          "data": {
            "text/plain": [
              "    ID                                               Name  \\\n",
              "0    1        Churn Model (Accuracy: 88.2% Recall: 88.7%)   \n",
              "1    2           Customer Churn Modelling | XGBoost | 87%   \n",
              "2    3                               Churn(ML_all_in_one)   \n",
              "3    4                                     Java's Dilemma   \n",
              "4    5                                    Churn Modelling   \n",
              "5    6       Customer Churn Modeling: EDA + FE + Model ??   \n",
              "6    7  ??Neural Networks OPT w/ Keras Tuner and Optun...   \n",
              "7    8                Customer Churn Prediction Using ANN   \n",
              "8    9                               Churn-Classification   \n",
              "9   10   Churn: ANN + Data Viz. + Tuning (86.3% Accuracy)   \n",
              "10  11  modelling for freshers with 6 classifiers(acc ...   \n",
              "11  12                                Churn Modeling w/TF   \n",
              "12  13                                         churnModel   \n",
              "13  14                        Churn Modelling | EDA | ANN   \n",
              "14  15         Customer Churn Prediction with Keras Tuner   \n",
              "15  16                         XGBoost & Cross_Validation   \n",
              "16  17                     ANN Simplified (Churn Dataset)   \n",
              "17  18                              ANN (Churn Modelling)   \n",
              "18  19  91% Accuracy / NeuralNetwork/ SupportVectorMac...   \n",
              "19  20                                 Customer_Churn_ANN   \n",
              "20  21                              Churn | XGBOOST | EDA   \n",
              "21  22           Churn Modeling : EDA + ANN + ML | Kaggle   \n",
              "22  23                  Bank-Prediction(ANN&RandomForest)   \n",
              "23  24                            EDA + 86% ANN explained   \n",
              "24  25                                 Just use Pipeline!   \n",
              "25  26      Comparing Classification for Churn Prediction   \n",
              "26  27   Churn prediction with LR , Trees , Random Forest   \n",
              "27  28                                    Churn Modelling   \n",
              "28  29  Churn: Visualization, RandomForest(86%), ANN(86%)   \n",
              "29  30             Neural Network to Model Employee Churn   \n",
              "\n",
              "                     Author TypeAlgorithm  \\\n",
              "0              CATHERINE SO    Supervised   \n",
              "1            SUYASH LAKHANI    Supervised   \n",
              "2           ALI DERAKHSHESH    Supervised   \n",
              "3                DUTTASD28     Supervised   \n",
              "4                guptaabhi7    Supervised   \n",
              "5              GALAXY GEORG    Supervised   \n",
              "6           LUDOVICO CUOGHI    Supervised   \n",
              "7              NITESH YADAV    Supervised   \n",
              "8        SOUHARDYA GANGULY     Supervised   \n",
              "9           SIDDHESH SAWANT    Supervised   \n",
              "10            SACHIN SHARMA    Supervised   \n",
              "11               TAHA āAKIR    Supervised   \n",
              "12         AHMET BU?RA BU?A    Supervised   \n",
              "13                 LUCIF3R     Supervised   \n",
              "14         ANURAG UPADHYAY     Supervised   \n",
              "15            AVISHAKE MAJI    Supervised   \n",
              "16         ROHIT AMALNERKAR    Supervised   \n",
              "17          HARSHA VARSHNEY    Supervised   \n",
              "18              VYOM BHATIA    Supervised   \n",
              "19              DHRUV KALIA    Supervised   \n",
              "20  MOHAMADREZA KARIMINEJAD    Supervised   \n",
              "21        BERKIN KAPLANO?LU    Supervised   \n",
              "22           SUMIT.SINGH_20    Supervised   \n",
              "23         AGUSTIN PUGLIESE    Supervised   \n",
              "24            MAHMOUD AFIFY    Supervised   \n",
              "25        MAHYAR ABOLHALLAJ    Supervised   \n",
              "26              WADIH ALEID    Supervised   \n",
              "27               DJRMARQUES    Supervised   \n",
              "28          HAYRETTIN BALCI    Supervised   \n",
              "29          MADHAV MALHOTRA    Supervised   \n",
              "\n",
              "                                              AlgUsed  \\\n",
              "0                  Logistic Reg,SVC,Random Forest,XGB   \n",
              "1                                                 XGB   \n",
              "2   KNN , Gaussian Naive Bayes ,Decision tree, SVC...   \n",
              "3   Logistic Reg ,Decision Tree, Random Forest  , ...   \n",
              "4   Logistic Reg,SVC,KNN , Gaussian Naive Bayes, G...   \n",
              "5            KNN, Gradient Boosting,Random Forest,ANN   \n",
              "6                                                 ANN   \n",
              "7                                                 ANN   \n",
              "8                                                 ANN   \n",
              "9                                                 ANN   \n",
              "10            KNN,Logistic Reg, SVC,Random Forest,XGB   \n",
              "11                                                ANN   \n",
              "12  Logistic Reg ,Decision Tree,Gaussian Naive Bay...   \n",
              "13                                                ANN   \n",
              "14                                                ANN   \n",
              "15                                                XGB   \n",
              "16                                                ANN   \n",
              "17                                                ANN   \n",
              "18                                            SVC,ANN   \n",
              "19                                                ANN   \n",
              "20                               KNN,Logistic Reg,XGB   \n",
              "21                 Logistic Reg,SVC,Random Forest,ANN   \n",
              "22                                 Random Forest, ANN   \n",
              "23                                                ANN   \n",
              "24                                  KNN,Random Forest   \n",
              "25                              Logistic Reg,XGB,LGBM   \n",
              "26        Logistic Reg ,Decision Tree, Random Forest    \n",
              "27            Logistic Reg ,Boosted Logistic Reg, GBM   \n",
              "28                                 Random Forest, ANN   \n",
              "29                                                ANN   \n",
              "\n",
              "                          MetricUsed          BestModel  \\\n",
              "0       Accuracy,Recall,Precision,F1                XGB   \n",
              "1                           Accuracy                XGB   \n",
              "2                 Accuracy,Precision                XGB   \n",
              "3                                 F1                XGB   \n",
              "4                           Accuracy  Gradient Boosting   \n",
              "5                           Accuracy      Random Forest   \n",
              "6   Accuracy,Recall,Precision,F1,ROC               ANN    \n",
              "7                           Accuracy                ANN   \n",
              "8       Accuracy,Recall,Precision,F1                ANN   \n",
              "9                           Accuracy                ANN   \n",
              "10                          Accuracy      Random Forest   \n",
              "11                          Accuracy                ANN   \n",
              "12                          Accuracy           CatBoost   \n",
              "13                          Accuracy                ANN   \n",
              "14                          Accuracy                ANN   \n",
              "15                          Accuracy                XGB   \n",
              "16                          Accuracy                ANN   \n",
              "17                          Accuracy                ANN   \n",
              "18                          Accuracy                ANN   \n",
              "19      Accuracy,Recall,Precision,F1                ANN   \n",
              "20      Accuracy,Recall,Precision,F1                XGB   \n",
              "21      Accuracy,Recall,Precision,F1      Random Forest   \n",
              "22      Accuracy,Recall,Precision,F1      Random Forest   \n",
              "23      Accuracy,Recall,Precision,F1                ANN   \n",
              "24                          Accuracy      Random Forest   \n",
              "25                          Accuracy                XGB   \n",
              "26      Accuracy,Recall,Precision,F1      Decision Tree   \n",
              "27                                F1                GBM   \n",
              "28                          Accuracy      Random Forest   \n",
              "29                          Accuracy                ANN   \n",
              "\n",
              "                        BestModelValues MetricGoal  SmoteApplied SmoteVariant  \\\n",
              "0   0.627878,0.968886,0.576027,0.722506     Recall          True        SMOTE   \n",
              "1                           0.866147664   Accuracy          True        SMOTE   \n",
              "2                       0.8570,0.886377   Accuracy          True        SMOTE   \n",
              "3                           0.809907834         F1         False          NaN   \n",
              "4                           0.867272727   Accuracy         False          NaN   \n",
              "5           0.6750,0.8587,0.8630,0.8637   Accuracy         False          NaN   \n",
              "6              0.80,0.51,0.75,0.61,0.78   Accuracy          True        SMOTE   \n",
              "7                            0.86559999   Accuracy         False          NaN   \n",
              "8                  0.86,0.75, 0.76,0.76   Accuracy         False          NaN   \n",
              "9                                0.8630   Accuracy         False          NaN   \n",
              "10                               0.8620   Accuracy         False          NaN   \n",
              "11                               0.8468   Accuracy         False          NaN   \n",
              "12                               0.8629   Accuracy         False          NaN   \n",
              "13                               0.8595   Accuracy         False          NaN   \n",
              "14                               0.8630   Accuracy         False          NaN   \n",
              "15                               0.8664   Accuracy         False          NaN   \n",
              "16                               0.8445   Accuracy         False          NaN   \n",
              "17                               0.8635   Accuracy         False          NaN   \n",
              "18                                 0.85   Accuracy         False          NaN   \n",
              "19                  0.80,0.69,0.7, 0.69   Accuracy         False          NaN   \n",
              "20                  0.81,0.71,0.57,0.58   Accuracy         False          NaN   \n",
              "21                  0.86,0.71,0.81,0.75   Accuracy         False          NaN   \n",
              "22                  0.85,0.72,0.78,0.74   Accuracy         False          NaN   \n",
              "23            0.8535,0.355,0.82, 0.4957   Accuracy         False          NaN   \n",
              "24                               0.8686   Accuracy         False          NaN   \n",
              "25                              0.85800   Accuracy         False          NaN   \n",
              "26         0.8566, 0.3424,0.8130,0.6617   Accuracy         False          NaN   \n",
              "27                                 0.59         F1         False          NaN   \n",
              "28                              0.86744   Accuracy         False          NaN   \n",
              "29                               0.7890   Accuracy         False          NaN   \n",
              "\n",
              "                                              Comment  \n",
              "0   He takes the Recall Score but shows the best F...  \n",
              "1                                                 NaN  \n",
              "2                                                 NaN  \n",
              "3                                                 NaN  \n",
              "4                                                 NaN  \n",
              "5   This is the best variable explanation i've see...  \n",
              "6                                                 NaN  \n",
              "7                                                 NaN  \n",
              "8                                                 NaN  \n",
              "9                                                 NaN  \n",
              "10                                                NaN  \n",
              "11                                                NaN  \n",
              "12                                                NaN  \n",
              "13                                                NaN  \n",
              "14                                                NaN  \n",
              "15                                                NaN  \n",
              "16                                                NaN  \n",
              "17                                                NaN  \n",
              "18                                                NaN  \n",
              "19                                                NaN  \n",
              "20                                                NaN  \n",
              "21  Random Forest Classifier and ANN gave us best ...  \n",
              "22                                                NaN  \n",
              "23                                    Really good EDA  \n",
              "24                  Pipeline with outliers detection.  \n",
              "25                                                NaN  \n",
              "26                                                NaN  \n",
              "27                                                NaN  \n",
              "28         Normalization of every feature interesting  \n",
              "29                                                NaN  "
            ],
            "text/html": [
              "\n",
              "  <div id=\"df-c0975071-1c01-4c85-99a7-12e8b7d21502\">\n",
              "    <div class=\"colab-df-container\">\n",
              "      <div>\n",
              "<style scoped>\n",
              "    .dataframe tbody tr th:only-of-type {\n",
              "        vertical-align: middle;\n",
              "    }\n",
              "\n",
              "    .dataframe tbody tr th {\n",
              "        vertical-align: top;\n",
              "    }\n",
              "\n",
              "    .dataframe thead th {\n",
              "        text-align: right;\n",
              "    }\n",
              "</style>\n",
              "<table border=\"1\" class=\"dataframe\">\n",
              "  <thead>\n",
              "    <tr style=\"text-align: right;\">\n",
              "      <th></th>\n",
              "      <th>ID</th>\n",
              "      <th>Name</th>\n",
              "      <th>Author</th>\n",
              "      <th>TypeAlgorithm</th>\n",
              "      <th>AlgUsed</th>\n",
              "      <th>MetricUsed</th>\n",
              "      <th>BestModel</th>\n",
              "      <th>BestModelValues</th>\n",
              "      <th>MetricGoal</th>\n",
              "      <th>SmoteApplied</th>\n",
              "      <th>SmoteVariant</th>\n",
              "      <th>Comment</th>\n",
              "    </tr>\n",
              "  </thead>\n",
              "  <tbody>\n",
              "    <tr>\n",
              "      <th>0</th>\n",
              "      <td>1</td>\n",
              "      <td>Churn Model (Accuracy: 88.2% Recall: 88.7%)</td>\n",
              "      <td>CATHERINE SO</td>\n",
              "      <td>Supervised</td>\n",
              "      <td>Logistic Reg,SVC,Random Forest,XGB</td>\n",
              "      <td>Accuracy,Recall,Precision,F1</td>\n",
              "      <td>XGB</td>\n",
              "      <td>0.627878,0.968886,0.576027,0.722506</td>\n",
              "      <td>Recall</td>\n",
              "      <td>True</td>\n",
              "      <td>SMOTE</td>\n",
              "      <td>He takes the Recall Score but shows the best F...</td>\n",
              "    </tr>\n",
              "    <tr>\n",
              "      <th>1</th>\n",
              "      <td>2</td>\n",
              "      <td>Customer Churn Modelling | XGBoost | 87%</td>\n",
              "      <td>SUYASH LAKHANI</td>\n",
              "      <td>Supervised</td>\n",
              "      <td>XGB</td>\n",
              "      <td>Accuracy</td>\n",
              "      <td>XGB</td>\n",
              "      <td>0.866147664</td>\n",
              "      <td>Accuracy</td>\n",
              "      <td>True</td>\n",
              "      <td>SMOTE</td>\n",
              "      <td>NaN</td>\n",
              "    </tr>\n",
              "    <tr>\n",
              "      <th>2</th>\n",
              "      <td>3</td>\n",
              "      <td>Churn(ML_all_in_one)</td>\n",
              "      <td>ALI DERAKHSHESH</td>\n",
              "      <td>Supervised</td>\n",
              "      <td>KNN , Gaussian Naive Bayes ,Decision tree, SVC...</td>\n",
              "      <td>Accuracy,Precision</td>\n",
              "      <td>XGB</td>\n",
              "      <td>0.8570,0.886377</td>\n",
              "      <td>Accuracy</td>\n",
              "      <td>True</td>\n",
              "      <td>SMOTE</td>\n",
              "      <td>NaN</td>\n",
              "    </tr>\n",
              "    <tr>\n",
              "      <th>3</th>\n",
              "      <td>4</td>\n",
              "      <td>Java's Dilemma</td>\n",
              "      <td>DUTTASD28</td>\n",
              "      <td>Supervised</td>\n",
              "      <td>Logistic Reg ,Decision Tree, Random Forest  , ...</td>\n",
              "      <td>F1</td>\n",
              "      <td>XGB</td>\n",
              "      <td>0.809907834</td>\n",
              "      <td>F1</td>\n",
              "      <td>False</td>\n",
              "      <td>NaN</td>\n",
              "      <td>NaN</td>\n",
              "    </tr>\n",
              "    <tr>\n",
              "      <th>4</th>\n",
              "      <td>5</td>\n",
              "      <td>Churn Modelling</td>\n",
              "      <td>guptaabhi7</td>\n",
              "      <td>Supervised</td>\n",
              "      <td>Logistic Reg,SVC,KNN , Gaussian Naive Bayes, G...</td>\n",
              "      <td>Accuracy</td>\n",
              "      <td>Gradient Boosting</td>\n",
              "      <td>0.867272727</td>\n",
              "      <td>Accuracy</td>\n",
              "      <td>False</td>\n",
              "      <td>NaN</td>\n",
              "      <td>NaN</td>\n",
              "    </tr>\n",
              "    <tr>\n",
              "      <th>5</th>\n",
              "      <td>6</td>\n",
              "      <td>Customer Churn Modeling: EDA + FE + Model ??</td>\n",
              "      <td>GALAXY GEORG</td>\n",
              "      <td>Supervised</td>\n",
              "      <td>KNN, Gradient Boosting,Random Forest,ANN</td>\n",
              "      <td>Accuracy</td>\n",
              "      <td>Random Forest</td>\n",
              "      <td>0.6750,0.8587,0.8630,0.8637</td>\n",
              "      <td>Accuracy</td>\n",
              "      <td>False</td>\n",
              "      <td>NaN</td>\n",
              "      <td>This is the best variable explanation i've see...</td>\n",
              "    </tr>\n",
              "    <tr>\n",
              "      <th>6</th>\n",
              "      <td>7</td>\n",
              "      <td>??Neural Networks OPT w/ Keras Tuner and Optun...</td>\n",
              "      <td>LUDOVICO CUOGHI</td>\n",
              "      <td>Supervised</td>\n",
              "      <td>ANN</td>\n",
              "      <td>Accuracy,Recall,Precision,F1,ROC</td>\n",
              "      <td>ANN</td>\n",
              "      <td>0.80,0.51,0.75,0.61,0.78</td>\n",
              "      <td>Accuracy</td>\n",
              "      <td>True</td>\n",
              "      <td>SMOTE</td>\n",
              "      <td>NaN</td>\n",
              "    </tr>\n",
              "    <tr>\n",
              "      <th>7</th>\n",
              "      <td>8</td>\n",
              "      <td>Customer Churn Prediction Using ANN</td>\n",
              "      <td>NITESH YADAV</td>\n",
              "      <td>Supervised</td>\n",
              "      <td>ANN</td>\n",
              "      <td>Accuracy</td>\n",
              "      <td>ANN</td>\n",
              "      <td>0.86559999</td>\n",
              "      <td>Accuracy</td>\n",
              "      <td>False</td>\n",
              "      <td>NaN</td>\n",
              "      <td>NaN</td>\n",
              "    </tr>\n",
              "    <tr>\n",
              "      <th>8</th>\n",
              "      <td>9</td>\n",
              "      <td>Churn-Classification</td>\n",
              "      <td>SOUHARDYA GANGULY</td>\n",
              "      <td>Supervised</td>\n",
              "      <td>ANN</td>\n",
              "      <td>Accuracy,Recall,Precision,F1</td>\n",
              "      <td>ANN</td>\n",
              "      <td>0.86,0.75, 0.76,0.76</td>\n",
              "      <td>Accuracy</td>\n",
              "      <td>False</td>\n",
              "      <td>NaN</td>\n",
              "      <td>NaN</td>\n",
              "    </tr>\n",
              "    <tr>\n",
              "      <th>9</th>\n",
              "      <td>10</td>\n",
              "      <td>Churn: ANN + Data Viz. + Tuning (86.3% Accuracy)</td>\n",
              "      <td>SIDDHESH SAWANT</td>\n",
              "      <td>Supervised</td>\n",
              "      <td>ANN</td>\n",
              "      <td>Accuracy</td>\n",
              "      <td>ANN</td>\n",
              "      <td>0.8630</td>\n",
              "      <td>Accuracy</td>\n",
              "      <td>False</td>\n",
              "      <td>NaN</td>\n",
              "      <td>NaN</td>\n",
              "    </tr>\n",
              "    <tr>\n",
              "      <th>10</th>\n",
              "      <td>11</td>\n",
              "      <td>modelling for freshers with 6 classifiers(acc ...</td>\n",
              "      <td>SACHIN SHARMA</td>\n",
              "      <td>Supervised</td>\n",
              "      <td>KNN,Logistic Reg, SVC,Random Forest,XGB</td>\n",
              "      <td>Accuracy</td>\n",
              "      <td>Random Forest</td>\n",
              "      <td>0.8620</td>\n",
              "      <td>Accuracy</td>\n",
              "      <td>False</td>\n",
              "      <td>NaN</td>\n",
              "      <td>NaN</td>\n",
              "    </tr>\n",
              "    <tr>\n",
              "      <th>11</th>\n",
              "      <td>12</td>\n",
              "      <td>Churn Modeling w/TF</td>\n",
              "      <td>TAHA āAKIR</td>\n",
              "      <td>Supervised</td>\n",
              "      <td>ANN</td>\n",
              "      <td>Accuracy</td>\n",
              "      <td>ANN</td>\n",
              "      <td>0.8468</td>\n",
              "      <td>Accuracy</td>\n",
              "      <td>False</td>\n",
              "      <td>NaN</td>\n",
              "      <td>NaN</td>\n",
              "    </tr>\n",
              "    <tr>\n",
              "      <th>12</th>\n",
              "      <td>13</td>\n",
              "      <td>churnModel</td>\n",
              "      <td>AHMET BU?RA BU?A</td>\n",
              "      <td>Supervised</td>\n",
              "      <td>Logistic Reg ,Decision Tree,Gaussian Naive Bay...</td>\n",
              "      <td>Accuracy</td>\n",
              "      <td>CatBoost</td>\n",
              "      <td>0.8629</td>\n",
              "      <td>Accuracy</td>\n",
              "      <td>False</td>\n",
              "      <td>NaN</td>\n",
              "      <td>NaN</td>\n",
              "    </tr>\n",
              "    <tr>\n",
              "      <th>13</th>\n",
              "      <td>14</td>\n",
              "      <td>Churn Modelling | EDA | ANN</td>\n",
              "      <td>LUCIF3R</td>\n",
              "      <td>Supervised</td>\n",
              "      <td>ANN</td>\n",
              "      <td>Accuracy</td>\n",
              "      <td>ANN</td>\n",
              "      <td>0.8595</td>\n",
              "      <td>Accuracy</td>\n",
              "      <td>False</td>\n",
              "      <td>NaN</td>\n",
              "      <td>NaN</td>\n",
              "    </tr>\n",
              "    <tr>\n",
              "      <th>14</th>\n",
              "      <td>15</td>\n",
              "      <td>Customer Churn Prediction with Keras Tuner</td>\n",
              "      <td>ANURAG UPADHYAY</td>\n",
              "      <td>Supervised</td>\n",
              "      <td>ANN</td>\n",
              "      <td>Accuracy</td>\n",
              "      <td>ANN</td>\n",
              "      <td>0.8630</td>\n",
              "      <td>Accuracy</td>\n",
              "      <td>False</td>\n",
              "      <td>NaN</td>\n",
              "      <td>NaN</td>\n",
              "    </tr>\n",
              "    <tr>\n",
              "      <th>15</th>\n",
              "      <td>16</td>\n",
              "      <td>XGBoost &amp; Cross_Validation</td>\n",
              "      <td>AVISHAKE MAJI</td>\n",
              "      <td>Supervised</td>\n",
              "      <td>XGB</td>\n",
              "      <td>Accuracy</td>\n",
              "      <td>XGB</td>\n",
              "      <td>0.8664</td>\n",
              "      <td>Accuracy</td>\n",
              "      <td>False</td>\n",
              "      <td>NaN</td>\n",
              "      <td>NaN</td>\n",
              "    </tr>\n",
              "    <tr>\n",
              "      <th>16</th>\n",
              "      <td>17</td>\n",
              "      <td>ANN Simplified (Churn Dataset)</td>\n",
              "      <td>ROHIT AMALNERKAR</td>\n",
              "      <td>Supervised</td>\n",
              "      <td>ANN</td>\n",
              "      <td>Accuracy</td>\n",
              "      <td>ANN</td>\n",
              "      <td>0.8445</td>\n",
              "      <td>Accuracy</td>\n",
              "      <td>False</td>\n",
              "      <td>NaN</td>\n",
              "      <td>NaN</td>\n",
              "    </tr>\n",
              "    <tr>\n",
              "      <th>17</th>\n",
              "      <td>18</td>\n",
              "      <td>ANN (Churn Modelling)</td>\n",
              "      <td>HARSHA VARSHNEY</td>\n",
              "      <td>Supervised</td>\n",
              "      <td>ANN</td>\n",
              "      <td>Accuracy</td>\n",
              "      <td>ANN</td>\n",
              "      <td>0.8635</td>\n",
              "      <td>Accuracy</td>\n",
              "      <td>False</td>\n",
              "      <td>NaN</td>\n",
              "      <td>NaN</td>\n",
              "    </tr>\n",
              "    <tr>\n",
              "      <th>18</th>\n",
              "      <td>19</td>\n",
              "      <td>91% Accuracy / NeuralNetwork/ SupportVectorMac...</td>\n",
              "      <td>VYOM BHATIA</td>\n",
              "      <td>Supervised</td>\n",
              "      <td>SVC,ANN</td>\n",
              "      <td>Accuracy</td>\n",
              "      <td>ANN</td>\n",
              "      <td>0.85</td>\n",
              "      <td>Accuracy</td>\n",
              "      <td>False</td>\n",
              "      <td>NaN</td>\n",
              "      <td>NaN</td>\n",
              "    </tr>\n",
              "    <tr>\n",
              "      <th>19</th>\n",
              "      <td>20</td>\n",
              "      <td>Customer_Churn_ANN</td>\n",
              "      <td>DHRUV KALIA</td>\n",
              "      <td>Supervised</td>\n",
              "      <td>ANN</td>\n",
              "      <td>Accuracy,Recall,Precision,F1</td>\n",
              "      <td>ANN</td>\n",
              "      <td>0.80,0.69,0.7, 0.69</td>\n",
              "      <td>Accuracy</td>\n",
              "      <td>False</td>\n",
              "      <td>NaN</td>\n",
              "      <td>NaN</td>\n",
              "    </tr>\n",
              "    <tr>\n",
              "      <th>20</th>\n",
              "      <td>21</td>\n",
              "      <td>Churn | XGBOOST | EDA</td>\n",
              "      <td>MOHAMADREZA KARIMINEJAD</td>\n",
              "      <td>Supervised</td>\n",
              "      <td>KNN,Logistic Reg,XGB</td>\n",
              "      <td>Accuracy,Recall,Precision,F1</td>\n",
              "      <td>XGB</td>\n",
              "      <td>0.81,0.71,0.57,0.58</td>\n",
              "      <td>Accuracy</td>\n",
              "      <td>False</td>\n",
              "      <td>NaN</td>\n",
              "      <td>NaN</td>\n",
              "    </tr>\n",
              "    <tr>\n",
              "      <th>21</th>\n",
              "      <td>22</td>\n",
              "      <td>Churn Modeling : EDA + ANN + ML | Kaggle</td>\n",
              "      <td>BERKIN KAPLANO?LU</td>\n",
              "      <td>Supervised</td>\n",
              "      <td>Logistic Reg,SVC,Random Forest,ANN</td>\n",
              "      <td>Accuracy,Recall,Precision,F1</td>\n",
              "      <td>Random Forest</td>\n",
              "      <td>0.86,0.71,0.81,0.75</td>\n",
              "      <td>Accuracy</td>\n",
              "      <td>False</td>\n",
              "      <td>NaN</td>\n",
              "      <td>Random Forest Classifier and ANN gave us best ...</td>\n",
              "    </tr>\n",
              "    <tr>\n",
              "      <th>22</th>\n",
              "      <td>23</td>\n",
              "      <td>Bank-Prediction(ANN&amp;RandomForest)</td>\n",
              "      <td>SUMIT.SINGH_20</td>\n",
              "      <td>Supervised</td>\n",
              "      <td>Random Forest, ANN</td>\n",
              "      <td>Accuracy,Recall,Precision,F1</td>\n",
              "      <td>Random Forest</td>\n",
              "      <td>0.85,0.72,0.78,0.74</td>\n",
              "      <td>Accuracy</td>\n",
              "      <td>False</td>\n",
              "      <td>NaN</td>\n",
              "      <td>NaN</td>\n",
              "    </tr>\n",
              "    <tr>\n",
              "      <th>23</th>\n",
              "      <td>24</td>\n",
              "      <td>EDA + 86% ANN explained</td>\n",
              "      <td>AGUSTIN PUGLIESE</td>\n",
              "      <td>Supervised</td>\n",
              "      <td>ANN</td>\n",
              "      <td>Accuracy,Recall,Precision,F1</td>\n",
              "      <td>ANN</td>\n",
              "      <td>0.8535,0.355,0.82, 0.4957</td>\n",
              "      <td>Accuracy</td>\n",
              "      <td>False</td>\n",
              "      <td>NaN</td>\n",
              "      <td>Really good EDA</td>\n",
              "    </tr>\n",
              "    <tr>\n",
              "      <th>24</th>\n",
              "      <td>25</td>\n",
              "      <td>Just use Pipeline!</td>\n",
              "      <td>MAHMOUD AFIFY</td>\n",
              "      <td>Supervised</td>\n",
              "      <td>KNN,Random Forest</td>\n",
              "      <td>Accuracy</td>\n",
              "      <td>Random Forest</td>\n",
              "      <td>0.8686</td>\n",
              "      <td>Accuracy</td>\n",
              "      <td>False</td>\n",
              "      <td>NaN</td>\n",
              "      <td>Pipeline with outliers detection.</td>\n",
              "    </tr>\n",
              "    <tr>\n",
              "      <th>25</th>\n",
              "      <td>26</td>\n",
              "      <td>Comparing Classification for Churn Prediction</td>\n",
              "      <td>MAHYAR ABOLHALLAJ</td>\n",
              "      <td>Supervised</td>\n",
              "      <td>Logistic Reg,XGB,LGBM</td>\n",
              "      <td>Accuracy</td>\n",
              "      <td>XGB</td>\n",
              "      <td>0.85800</td>\n",
              "      <td>Accuracy</td>\n",
              "      <td>False</td>\n",
              "      <td>NaN</td>\n",
              "      <td>NaN</td>\n",
              "    </tr>\n",
              "    <tr>\n",
              "      <th>26</th>\n",
              "      <td>27</td>\n",
              "      <td>Churn prediction with LR , Trees , Random Forest</td>\n",
              "      <td>WADIH ALEID</td>\n",
              "      <td>Supervised</td>\n",
              "      <td>Logistic Reg ,Decision Tree, Random Forest</td>\n",
              "      <td>Accuracy,Recall,Precision,F1</td>\n",
              "      <td>Decision Tree</td>\n",
              "      <td>0.8566, 0.3424,0.8130,0.6617</td>\n",
              "      <td>Accuracy</td>\n",
              "      <td>False</td>\n",
              "      <td>NaN</td>\n",
              "      <td>NaN</td>\n",
              "    </tr>\n",
              "    <tr>\n",
              "      <th>27</th>\n",
              "      <td>28</td>\n",
              "      <td>Churn Modelling</td>\n",
              "      <td>DJRMARQUES</td>\n",
              "      <td>Supervised</td>\n",
              "      <td>Logistic Reg ,Boosted Logistic Reg, GBM</td>\n",
              "      <td>F1</td>\n",
              "      <td>GBM</td>\n",
              "      <td>0.59</td>\n",
              "      <td>F1</td>\n",
              "      <td>False</td>\n",
              "      <td>NaN</td>\n",
              "      <td>NaN</td>\n",
              "    </tr>\n",
              "    <tr>\n",
              "      <th>28</th>\n",
              "      <td>29</td>\n",
              "      <td>Churn: Visualization, RandomForest(86%), ANN(86%)</td>\n",
              "      <td>HAYRETTIN BALCI</td>\n",
              "      <td>Supervised</td>\n",
              "      <td>Random Forest, ANN</td>\n",
              "      <td>Accuracy</td>\n",
              "      <td>Random Forest</td>\n",
              "      <td>0.86744</td>\n",
              "      <td>Accuracy</td>\n",
              "      <td>False</td>\n",
              "      <td>NaN</td>\n",
              "      <td>Normalization of every feature interesting</td>\n",
              "    </tr>\n",
              "    <tr>\n",
              "      <th>29</th>\n",
              "      <td>30</td>\n",
              "      <td>Neural Network to Model Employee Churn</td>\n",
              "      <td>MADHAV MALHOTRA</td>\n",
              "      <td>Supervised</td>\n",
              "      <td>ANN</td>\n",
              "      <td>Accuracy</td>\n",
              "      <td>ANN</td>\n",
              "      <td>0.7890</td>\n",
              "      <td>Accuracy</td>\n",
              "      <td>False</td>\n",
              "      <td>NaN</td>\n",
              "      <td>NaN</td>\n",
              "    </tr>\n",
              "  </tbody>\n",
              "</table>\n",
              "</div>\n",
              "      <button class=\"colab-df-convert\" onclick=\"convertToInteractive('df-c0975071-1c01-4c85-99a7-12e8b7d21502')\"\n",
              "              title=\"Convert this dataframe to an interactive table.\"\n",
              "              style=\"display:none;\">\n",
              "        \n",
              "  <svg xmlns=\"http://www.w3.org/2000/svg\" height=\"24px\"viewBox=\"0 0 24 24\"\n",
              "       width=\"24px\">\n",
              "    <path d=\"M0 0h24v24H0V0z\" fill=\"none\"/>\n",
              "    <path d=\"M18.56 5.44l.94 2.06.94-2.06 2.06-.94-2.06-.94-.94-2.06-.94 2.06-2.06.94zm-11 1L8.5 8.5l.94-2.06 2.06-.94-2.06-.94L8.5 2.5l-.94 2.06-2.06.94zm10 10l.94 2.06.94-2.06 2.06-.94-2.06-.94-.94-2.06-.94 2.06-2.06.94z\"/><path d=\"M17.41 7.96l-1.37-1.37c-.4-.4-.92-.59-1.43-.59-.52 0-1.04.2-1.43.59L10.3 9.45l-7.72 7.72c-.78.78-.78 2.05 0 2.83L4 21.41c.39.39.9.59 1.41.59.51 0 1.02-.2 1.41-.59l7.78-7.78 2.81-2.81c.8-.78.8-2.07 0-2.86zM5.41 20L4 18.59l7.72-7.72 1.47 1.35L5.41 20z\"/>\n",
              "  </svg>\n",
              "      </button>\n",
              "      \n",
              "  <style>\n",
              "    .colab-df-container {\n",
              "      display:flex;\n",
              "      flex-wrap:wrap;\n",
              "      gap: 12px;\n",
              "    }\n",
              "\n",
              "    .colab-df-convert {\n",
              "      background-color: #E8F0FE;\n",
              "      border: none;\n",
              "      border-radius: 50%;\n",
              "      cursor: pointer;\n",
              "      display: none;\n",
              "      fill: #1967D2;\n",
              "      height: 32px;\n",
              "      padding: 0 0 0 0;\n",
              "      width: 32px;\n",
              "    }\n",
              "\n",
              "    .colab-df-convert:hover {\n",
              "      background-color: #E2EBFA;\n",
              "      box-shadow: 0px 1px 2px rgba(60, 64, 67, 0.3), 0px 1px 3px 1px rgba(60, 64, 67, 0.15);\n",
              "      fill: #174EA6;\n",
              "    }\n",
              "\n",
              "    [theme=dark] .colab-df-convert {\n",
              "      background-color: #3B4455;\n",
              "      fill: #D2E3FC;\n",
              "    }\n",
              "\n",
              "    [theme=dark] .colab-df-convert:hover {\n",
              "      background-color: #434B5C;\n",
              "      box-shadow: 0px 1px 3px 1px rgba(0, 0, 0, 0.15);\n",
              "      filter: drop-shadow(0px 1px 2px rgba(0, 0, 0, 0.3));\n",
              "      fill: #FFFFFF;\n",
              "    }\n",
              "  </style>\n",
              "\n",
              "      <script>\n",
              "        const buttonEl =\n",
              "          document.querySelector('#df-c0975071-1c01-4c85-99a7-12e8b7d21502 button.colab-df-convert');\n",
              "        buttonEl.style.display =\n",
              "          google.colab.kernel.accessAllowed ? 'block' : 'none';\n",
              "\n",
              "        async function convertToInteractive(key) {\n",
              "          const element = document.querySelector('#df-c0975071-1c01-4c85-99a7-12e8b7d21502');\n",
              "          const dataTable =\n",
              "            await google.colab.kernel.invokeFunction('convertToInteractive',\n",
              "                                                     [key], {});\n",
              "          if (!dataTable) return;\n",
              "\n",
              "          const docLinkHtml = 'Like what you see? Visit the ' +\n",
              "            '<a target=\"_blank\" href=https://colab.research.google.com/notebooks/data_table.ipynb>data table notebook</a>'\n",
              "            + ' to learn more about interactive tables.';\n",
              "          element.innerHTML = '';\n",
              "          dataTable['output_type'] = 'display_data';\n",
              "          await google.colab.output.renderOutput(dataTable, element);\n",
              "          const docLink = document.createElement('div');\n",
              "          docLink.innerHTML = docLinkHtml;\n",
              "          element.appendChild(docLink);\n",
              "        }\n",
              "      </script>\n",
              "    </div>\n",
              "  </div>\n",
              "  "
            ]
          },
          "metadata": {},
          "execution_count": 31
        }
      ]
    },
    {
      "cell_type": "code",
      "source": [
        "df = df.drop(columns = ['Name','Author','Comment'])"
      ],
      "metadata": {
        "id": "ywTVk3CbZYQH"
      },
      "execution_count": 32,
      "outputs": []
    },
    {
      "cell_type": "markdown",
      "source": [
        "With a delimiter que can split the string we have passed the dataframe into a list, for this we are going to convert into a list all columns with this pattern"
      ],
      "metadata": {
        "id": "E0zdmemSaWLn"
      }
    },
    {
      "cell_type": "code",
      "source": [
        "lists = ['AlgUsed', 'MetricUsed', 'BestModelValues' ]\n",
        "lists_names = ['Alg_', 'MetricValue_', 'BestModelValue_']"
      ],
      "metadata": {
        "id": "Ut861baWa4YW"
      },
      "execution_count": 33,
      "outputs": []
    },
    {
      "cell_type": "code",
      "source": [
        "import ast"
      ],
      "metadata": {
        "id": "y9TMTqtdbVIR"
      },
      "execution_count": 34,
      "outputs": []
    },
    {
      "cell_type": "code",
      "source": [
        "i=0\n",
        "appended_data = []\n",
        "for column in lists:\n",
        "  df[column] = df[column].apply(lambda s:list(s.replace(\"'\",'').replace(\" \",'').replace(\";\",\"\").split(',')))\n",
        "  appended_data.append((pd.DataFrame(df[column].values.tolist()).add_prefix(lists_names[i])))\n",
        "  i+=1\n",
        "\n",
        "df.head()\n"
      ],
      "metadata": {
        "colab": {
          "base_uri": "https://localhost:8080/",
          "height": 0
        },
        "id": "4P10F4trbKFH",
        "outputId": "0ca17ac7-8bf5-4586-f836-7f73c3161909"
      },
      "execution_count": 35,
      "outputs": [
        {
          "output_type": "execute_result",
          "data": {
            "text/plain": [
              "   ID TypeAlgorithm                                            AlgUsed  \\\n",
              "0   1    Supervised              [LogisticReg, SVC, RandomForest, XGB]   \n",
              "1   2    Supervised                                              [XGB]   \n",
              "2   3    Supervised  [KNN, GaussianNaiveBayes, Decisiontree, SVC, R...   \n",
              "3   4    Supervised  [LogisticReg, DecisionTree, RandomForest, Extr...   \n",
              "4   5    Supervised  [LogisticReg, SVC, KNN, GaussianNaiveBayes, Gr...   \n",
              "\n",
              "                          MetricUsed          BestModel  \\\n",
              "0  [Accuracy, Recall, Precision, F1]                XGB   \n",
              "1                         [Accuracy]                XGB   \n",
              "2              [Accuracy, Precision]                XGB   \n",
              "3                               [F1]                XGB   \n",
              "4                         [Accuracy]  Gradient Boosting   \n",
              "\n",
              "                            BestModelValues MetricGoal  SmoteApplied  \\\n",
              "0  [0.627878, 0.968886, 0.576027, 0.722506]     Recall          True   \n",
              "1                             [0.866147664]   Accuracy          True   \n",
              "2                        [0.8570, 0.886377]   Accuracy          True   \n",
              "3                             [0.809907834]         F1         False   \n",
              "4                             [0.867272727]   Accuracy         False   \n",
              "\n",
              "  SmoteVariant  \n",
              "0        SMOTE  \n",
              "1        SMOTE  \n",
              "2        SMOTE  \n",
              "3          NaN  \n",
              "4          NaN  "
            ],
            "text/html": [
              "\n",
              "  <div id=\"df-55bc06f1-340c-4472-b214-7b2dc2bff15c\">\n",
              "    <div class=\"colab-df-container\">\n",
              "      <div>\n",
              "<style scoped>\n",
              "    .dataframe tbody tr th:only-of-type {\n",
              "        vertical-align: middle;\n",
              "    }\n",
              "\n",
              "    .dataframe tbody tr th {\n",
              "        vertical-align: top;\n",
              "    }\n",
              "\n",
              "    .dataframe thead th {\n",
              "        text-align: right;\n",
              "    }\n",
              "</style>\n",
              "<table border=\"1\" class=\"dataframe\">\n",
              "  <thead>\n",
              "    <tr style=\"text-align: right;\">\n",
              "      <th></th>\n",
              "      <th>ID</th>\n",
              "      <th>TypeAlgorithm</th>\n",
              "      <th>AlgUsed</th>\n",
              "      <th>MetricUsed</th>\n",
              "      <th>BestModel</th>\n",
              "      <th>BestModelValues</th>\n",
              "      <th>MetricGoal</th>\n",
              "      <th>SmoteApplied</th>\n",
              "      <th>SmoteVariant</th>\n",
              "    </tr>\n",
              "  </thead>\n",
              "  <tbody>\n",
              "    <tr>\n",
              "      <th>0</th>\n",
              "      <td>1</td>\n",
              "      <td>Supervised</td>\n",
              "      <td>[LogisticReg, SVC, RandomForest, XGB]</td>\n",
              "      <td>[Accuracy, Recall, Precision, F1]</td>\n",
              "      <td>XGB</td>\n",
              "      <td>[0.627878, 0.968886, 0.576027, 0.722506]</td>\n",
              "      <td>Recall</td>\n",
              "      <td>True</td>\n",
              "      <td>SMOTE</td>\n",
              "    </tr>\n",
              "    <tr>\n",
              "      <th>1</th>\n",
              "      <td>2</td>\n",
              "      <td>Supervised</td>\n",
              "      <td>[XGB]</td>\n",
              "      <td>[Accuracy]</td>\n",
              "      <td>XGB</td>\n",
              "      <td>[0.866147664]</td>\n",
              "      <td>Accuracy</td>\n",
              "      <td>True</td>\n",
              "      <td>SMOTE</td>\n",
              "    </tr>\n",
              "    <tr>\n",
              "      <th>2</th>\n",
              "      <td>3</td>\n",
              "      <td>Supervised</td>\n",
              "      <td>[KNN, GaussianNaiveBayes, Decisiontree, SVC, R...</td>\n",
              "      <td>[Accuracy, Precision]</td>\n",
              "      <td>XGB</td>\n",
              "      <td>[0.8570, 0.886377]</td>\n",
              "      <td>Accuracy</td>\n",
              "      <td>True</td>\n",
              "      <td>SMOTE</td>\n",
              "    </tr>\n",
              "    <tr>\n",
              "      <th>3</th>\n",
              "      <td>4</td>\n",
              "      <td>Supervised</td>\n",
              "      <td>[LogisticReg, DecisionTree, RandomForest, Extr...</td>\n",
              "      <td>[F1]</td>\n",
              "      <td>XGB</td>\n",
              "      <td>[0.809907834]</td>\n",
              "      <td>F1</td>\n",
              "      <td>False</td>\n",
              "      <td>NaN</td>\n",
              "    </tr>\n",
              "    <tr>\n",
              "      <th>4</th>\n",
              "      <td>5</td>\n",
              "      <td>Supervised</td>\n",
              "      <td>[LogisticReg, SVC, KNN, GaussianNaiveBayes, Gr...</td>\n",
              "      <td>[Accuracy]</td>\n",
              "      <td>Gradient Boosting</td>\n",
              "      <td>[0.867272727]</td>\n",
              "      <td>Accuracy</td>\n",
              "      <td>False</td>\n",
              "      <td>NaN</td>\n",
              "    </tr>\n",
              "  </tbody>\n",
              "</table>\n",
              "</div>\n",
              "      <button class=\"colab-df-convert\" onclick=\"convertToInteractive('df-55bc06f1-340c-4472-b214-7b2dc2bff15c')\"\n",
              "              title=\"Convert this dataframe to an interactive table.\"\n",
              "              style=\"display:none;\">\n",
              "        \n",
              "  <svg xmlns=\"http://www.w3.org/2000/svg\" height=\"24px\"viewBox=\"0 0 24 24\"\n",
              "       width=\"24px\">\n",
              "    <path d=\"M0 0h24v24H0V0z\" fill=\"none\"/>\n",
              "    <path d=\"M18.56 5.44l.94 2.06.94-2.06 2.06-.94-2.06-.94-.94-2.06-.94 2.06-2.06.94zm-11 1L8.5 8.5l.94-2.06 2.06-.94-2.06-.94L8.5 2.5l-.94 2.06-2.06.94zm10 10l.94 2.06.94-2.06 2.06-.94-2.06-.94-.94-2.06-.94 2.06-2.06.94z\"/><path d=\"M17.41 7.96l-1.37-1.37c-.4-.4-.92-.59-1.43-.59-.52 0-1.04.2-1.43.59L10.3 9.45l-7.72 7.72c-.78.78-.78 2.05 0 2.83L4 21.41c.39.39.9.59 1.41.59.51 0 1.02-.2 1.41-.59l7.78-7.78 2.81-2.81c.8-.78.8-2.07 0-2.86zM5.41 20L4 18.59l7.72-7.72 1.47 1.35L5.41 20z\"/>\n",
              "  </svg>\n",
              "      </button>\n",
              "      \n",
              "  <style>\n",
              "    .colab-df-container {\n",
              "      display:flex;\n",
              "      flex-wrap:wrap;\n",
              "      gap: 12px;\n",
              "    }\n",
              "\n",
              "    .colab-df-convert {\n",
              "      background-color: #E8F0FE;\n",
              "      border: none;\n",
              "      border-radius: 50%;\n",
              "      cursor: pointer;\n",
              "      display: none;\n",
              "      fill: #1967D2;\n",
              "      height: 32px;\n",
              "      padding: 0 0 0 0;\n",
              "      width: 32px;\n",
              "    }\n",
              "\n",
              "    .colab-df-convert:hover {\n",
              "      background-color: #E2EBFA;\n",
              "      box-shadow: 0px 1px 2px rgba(60, 64, 67, 0.3), 0px 1px 3px 1px rgba(60, 64, 67, 0.15);\n",
              "      fill: #174EA6;\n",
              "    }\n",
              "\n",
              "    [theme=dark] .colab-df-convert {\n",
              "      background-color: #3B4455;\n",
              "      fill: #D2E3FC;\n",
              "    }\n",
              "\n",
              "    [theme=dark] .colab-df-convert:hover {\n",
              "      background-color: #434B5C;\n",
              "      box-shadow: 0px 1px 3px 1px rgba(0, 0, 0, 0.15);\n",
              "      filter: drop-shadow(0px 1px 2px rgba(0, 0, 0, 0.3));\n",
              "      fill: #FFFFFF;\n",
              "    }\n",
              "  </style>\n",
              "\n",
              "      <script>\n",
              "        const buttonEl =\n",
              "          document.querySelector('#df-55bc06f1-340c-4472-b214-7b2dc2bff15c button.colab-df-convert');\n",
              "        buttonEl.style.display =\n",
              "          google.colab.kernel.accessAllowed ? 'block' : 'none';\n",
              "\n",
              "        async function convertToInteractive(key) {\n",
              "          const element = document.querySelector('#df-55bc06f1-340c-4472-b214-7b2dc2bff15c');\n",
              "          const dataTable =\n",
              "            await google.colab.kernel.invokeFunction('convertToInteractive',\n",
              "                                                     [key], {});\n",
              "          if (!dataTable) return;\n",
              "\n",
              "          const docLinkHtml = 'Like what you see? Visit the ' +\n",
              "            '<a target=\"_blank\" href=https://colab.research.google.com/notebooks/data_table.ipynb>data table notebook</a>'\n",
              "            + ' to learn more about interactive tables.';\n",
              "          element.innerHTML = '';\n",
              "          dataTable['output_type'] = 'display_data';\n",
              "          await google.colab.output.renderOutput(dataTable, element);\n",
              "          const docLink = document.createElement('div');\n",
              "          docLink.innerHTML = docLinkHtml;\n",
              "          element.appendChild(docLink);\n",
              "        }\n",
              "      </script>\n",
              "    </div>\n",
              "  </div>\n",
              "  "
            ]
          },
          "metadata": {},
          "execution_count": 35
        }
      ]
    },
    {
      "cell_type": "code",
      "source": [
        "df2  = pd.concat(appended_data , axis=1)\n",
        "df_final = pd.concat([df,df2] , axis=1)"
      ],
      "metadata": {
        "id": "ZCPuAjWjqXVD"
      },
      "execution_count": 36,
      "outputs": []
    },
    {
      "cell_type": "code",
      "source": [
        "df_final = df_final.replace(\"ANN \",\"ANN\").replace(\"GaussianNaiveBaye\",\"GaussianNaiveBayes\")"
      ],
      "metadata": {
        "id": "RdABlIYkiRX8"
      },
      "execution_count": 37,
      "outputs": []
    },
    {
      "cell_type": "code",
      "source": [
        "df_final.BestModel.value_counts()"
      ],
      "metadata": {
        "colab": {
          "base_uri": "https://localhost:8080/"
        },
        "id": "3rKJ2GHTPztj",
        "outputId": "4c4e259e-88b8-4421-988e-b93c1921139f"
      },
      "execution_count": 38,
      "outputs": [
        {
          "output_type": "execute_result",
          "data": {
            "text/plain": [
              "ANN                  13\n",
              "XGB                   7\n",
              "Random Forest         6\n",
              "Gradient Boosting     1\n",
              "CatBoost              1\n",
              "Decision Tree         1\n",
              "GBM                   1\n",
              "Name: BestModel, dtype: int64"
            ]
          },
          "metadata": {},
          "execution_count": 38
        }
      ]
    },
    {
      "cell_type": "code",
      "source": [
        "df_final.BestModel.unique()"
      ],
      "metadata": {
        "colab": {
          "base_uri": "https://localhost:8080/"
        },
        "id": "h61nwJhgiK-s",
        "outputId": "caad38b8-8a2b-4052-bf70-43d4d020517a"
      },
      "execution_count": 39,
      "outputs": [
        {
          "output_type": "execute_result",
          "data": {
            "text/plain": [
              "array(['XGB', 'Gradient Boosting', 'Random Forest', 'ANN', 'CatBoost',\n",
              "       'Decision Tree', 'GBM'], dtype=object)"
            ]
          },
          "metadata": {},
          "execution_count": 39
        }
      ]
    },
    {
      "cell_type": "markdown",
      "source": [
        "# Viewing Results"
      ],
      "metadata": {
        "id": "juRtMWHMtATd"
      }
    },
    {
      "cell_type": "code",
      "source": [
        "from matplotlib import pyplot as plt\n",
        "import numpy as np\n",
        "\n",
        "def show_values_on_bars(axs):\n",
        "    def _show_on_single_plot(ax):        \n",
        "        for p in ax.patches:\n",
        "            _x = p.get_x() + p.get_width() / 2\n",
        "            _y = p.get_y() + p.get_height()\n",
        "            value = '{:.2f}'.format(p.get_height())\n",
        "            ax.text(_x, _y, value, ha=\"center\") \n",
        "\n",
        "    if isinstance(axs, np.ndarray):\n",
        "        for idx, ax in np.ndenumerate(axs):\n",
        "            _show_on_single_plot(ax)\n",
        "    else:\n",
        "        _show_on_single_plot(axs)\n",
        "\n",
        "\n"
      ],
      "metadata": {
        "id": "drIbZrlR8OSL"
      },
      "execution_count": 40,
      "outputs": []
    },
    {
      "cell_type": "markdown",
      "source": [
        "Setting Fig Size"
      ],
      "metadata": {
        "id": "_vENB1AEtXSs"
      }
    },
    {
      "cell_type": "code",
      "source": [
        "from matplotlib import rcParams\n",
        "import seaborn as sns\n",
        "rcParams['figure.figsize'] = 14,9\n",
        "rcParams['axes.titlesize'] = 4\n",
        "plt.style.use('ggplot')"
      ],
      "metadata": {
        "id": "eLs247f9tSYt"
      },
      "execution_count": 41,
      "outputs": []
    },
    {
      "cell_type": "markdown",
      "source": [
        "## Accuracy"
      ],
      "metadata": {
        "id": "gyDDGOUDNmpz"
      }
    },
    {
      "cell_type": "code",
      "source": [
        "df_acc = df_final[df_final['MetricGoal'] == 'Accuracy']\n"
      ],
      "metadata": {
        "id": "ie4NN6LQ-H-C"
      },
      "execution_count": 42,
      "outputs": []
    },
    {
      "cell_type": "code",
      "source": [
        "df_acc.info()"
      ],
      "metadata": {
        "colab": {
          "base_uri": "https://localhost:8080/"
        },
        "id": "o64x-MFtTahR",
        "outputId": "c4dddd4c-a558-4f2b-b5c5-ba9a0a6e6dda"
      },
      "execution_count": 43,
      "outputs": [
        {
          "output_type": "stream",
          "name": "stdout",
          "text": [
            "<class 'pandas.core.frame.DataFrame'>\n",
            "Int64Index: 27 entries, 1 to 29\n",
            "Data columns (total 28 columns):\n",
            " #   Column            Non-Null Count  Dtype \n",
            "---  ------            --------------  ----- \n",
            " 0   ID                27 non-null     int64 \n",
            " 1   TypeAlgorithm     27 non-null     object\n",
            " 2   AlgUsed           27 non-null     object\n",
            " 3   MetricUsed        27 non-null     object\n",
            " 4   BestModel         27 non-null     object\n",
            " 5   BestModelValues   27 non-null     object\n",
            " 6   MetricGoal        27 non-null     object\n",
            " 7   SmoteApplied      27 non-null     bool  \n",
            " 8   SmoteVariant      3 non-null      object\n",
            " 9   Alg_0             27 non-null     object\n",
            " 10  Alg_1             13 non-null     object\n",
            " 11  Alg_2             9 non-null      object\n",
            " 12  Alg_3             6 non-null      object\n",
            " 13  Alg_4             4 non-null      object\n",
            " 14  Alg_5             3 non-null      object\n",
            " 15  Alg_6             2 non-null      object\n",
            " 16  Alg_7             1 non-null      object\n",
            " 17  Alg_8             1 non-null      object\n",
            " 18  MetricValue_0     27 non-null     object\n",
            " 19  MetricValue_1     9 non-null      object\n",
            " 20  MetricValue_2     8 non-null      object\n",
            " 21  MetricValue_3     8 non-null      object\n",
            " 22  MetricValue_4     1 non-null      object\n",
            " 23  BestModelValue_0  27 non-null     object\n",
            " 24  BestModelValue_1  10 non-null     object\n",
            " 25  BestModelValue_2  9 non-null      object\n",
            " 26  BestModelValue_3  9 non-null      object\n",
            " 27  BestModelValue_4  1 non-null      object\n",
            "dtypes: bool(1), int64(1), object(26)\n",
            "memory usage: 5.9+ KB\n"
          ]
        }
      ]
    },
    {
      "cell_type": "code",
      "source": [
        "list2 = ['MetricValue', 'BestModelValue']"
      ],
      "metadata": {
        "id": "wjetaHdJXjSI"
      },
      "execution_count": 44,
      "outputs": []
    },
    {
      "cell_type": "code",
      "source": [
        "for column in list2:\n",
        "  for i in range(4):\n",
        "   df_acc[f'BestModelValue_{i}']= df_acc[f'BestModelValue_{i}'].astype('float')"
      ],
      "metadata": {
        "colab": {
          "base_uri": "https://localhost:8080/"
        },
        "id": "Fby05uhxU_4B",
        "outputId": "fa4d1325-0435-4dbc-e8ca-7ab03fd998db"
      },
      "execution_count": 45,
      "outputs": [
        {
          "output_type": "stream",
          "name": "stderr",
          "text": [
            "/usr/local/lib/python3.7/dist-packages/ipykernel_launcher.py:3: SettingWithCopyWarning: \n",
            "A value is trying to be set on a copy of a slice from a DataFrame.\n",
            "Try using .loc[row_indexer,col_indexer] = value instead\n",
            "\n",
            "See the caveats in the documentation: https://pandas.pydata.org/pandas-docs/stable/user_guide/indexing.html#returning-a-view-versus-a-copy\n",
            "  This is separate from the ipykernel package so we can avoid doing imports until\n"
          ]
        }
      ]
    },
    {
      "cell_type": "markdown",
      "source": [
        "## Accuracy plot\n",
        "> Accuracy of each notebook."
      ],
      "metadata": {
        "id": "-4EptSGEMbt6"
      }
    },
    {
      "cell_type": "code",
      "source": [
        "ax = sns.barplot(x = df_acc.ID, y = df_acc.BestModelValue_0, orient = 'v')\n",
        "ax.set(ylabel='Accuracy')\n",
        "ax.set_xticklabels(ax.get_xticklabels(), rotation=40, ha=\"right\")\n",
        "ax.set_title('Accuracy',fontsize=24)\n",
        "ax.set_ylim([0.60, 0.90])\n",
        "show_values_on_bars(ax)\n",
        "plt.savefig('accu.png', bbox_inches='tight')"
      ],
      "metadata": {
        "colab": {
          "base_uri": "https://localhost:8080/",
          "height": 0
        },
        "id": "x42Hl-j6s_PU",
        "outputId": "a50d2c8c-1528-4ece-8c99-7724449a6a27"
      },
      "execution_count": 46,
      "outputs": [
        {
          "output_type": "display_data",
          "data": {
            "text/plain": [
              "<Figure size 1008x648 with 1 Axes>"
            ],
            "image/png": "[encoded data removed]"
          },
          "metadata": {}
        }
      ]
    },
    {
      "cell_type": "markdown",
      "source": [
        "### Distribution of Accuracy\n",
        "> Distribution of a certain algorithm to classify the data, seen by accuracy score."
      ],
      "metadata": {
        "id": "gU0iefRxDB5r"
      }
    },
    {
      "cell_type": "code",
      "source": [
        "g= sns.jointplot(data=df_acc, x=\"BestModel\", y=\"BestModelValue_0\")\n",
        "ax = g.ax_joint\n",
        "ax.set(ylabel='Accuracy')\n",
        "\n",
        "g.fig.suptitle(\"Accuracy distribution by algorithm\")\n",
        "#x.collections[0].set_alpha(0)\n",
        "g.fig.tight_layout()\n",
        "g.fig.subplots_adjust(top=0.95) # Reduce plot to make room \n",
        "#ax.set_title('Accuracy distribution by algorithm',fontsize=24)\n",
        "ax.set_ylim(0.775,0.875)\n",
        "ax.set_xticklabels(pd.unique(df_acc[\"BestModel\"]),  rotation=40, ha=\"right\")\n",
        "plt.savefig('distrubted.png', bbox_inches='tight')"
      ],
      "metadata": {
        "colab": {
          "base_uri": "https://localhost:8080/",
          "height": 0
        },
        "id": "_2i9F6ZtAhEh",
        "outputId": "d78788a6-aa7d-4d99-9fce-5a172c423941"
      },
      "execution_count": 47,
      "outputs": [
        {
          "output_type": "display_data",
          "data": {
            "text/plain": [
              "<Figure size 432x432 with 3 Axes>"
            ],
            "image/png": "[encoded data removed]"
          },
          "metadata": {}
        }
      ]
    },
    {
      "cell_type": "code",
      "source": [
        " df_acc.BestModelValue_0.describe()"
      ],
      "metadata": {
        "colab": {
          "base_uri": "https://localhost:8080/"
        },
        "id": "eWEpQ__Q_EaM",
        "outputId": "cd0a97ec-f568-4f36-f344-5206c207bb6b"
      },
      "execution_count": 48,
      "outputs": [
        {
          "output_type": "execute_result",
          "data": {
            "text/plain": [
              "count    27.000000\n",
              "mean      0.843917\n",
              "std       0.040667\n",
              "min       0.675000\n",
              "25%       0.848400\n",
              "50%       0.859500\n",
              "75%       0.863250\n",
              "max       0.868600\n",
              "Name: BestModelValue_0, dtype: float64"
            ]
          },
          "metadata": {},
          "execution_count": 48
        }
      ]
    },
    {
      "cell_type": "markdown",
      "source": [
        "## Algorithms used\n",
        "> Any Kind of classifer or ANN used to classify the labels and make the predictions."
      ],
      "metadata": {
        "id": "7yjuJy_cSu0C"
      }
    },
    {
      "cell_type": "code",
      "source": [
        "from itertools import chain\n",
        "\n",
        "test = pd.Series(list(chain.from_iterable(df['AlgUsed']))).value_counts()\n",
        "ax = sns.barplot(test.index, test.values)\n",
        "#plt.tight_layout()\n",
        "ax.set_title('All algorithms implemented',fontsize=24)\n",
        "ax.set_xticklabels(ax.get_xticklabels(), rotation=40, ha=\"right\")\n",
        "show_values_on_bars(ax)\n",
        "plt.savefig('allags.png', bbox_inches='tight')"
      ],
      "metadata": {
        "colab": {
          "base_uri": "https://localhost:8080/",
          "height": 0
        },
        "id": "E0KB1y7WmLfd",
        "outputId": "1a0f355c-11b0-413e-c05a-f60a31c75bda"
      },
      "execution_count": 49,
      "outputs": [
        {
          "output_type": "stream",
          "name": "stderr",
          "text": [
            "/usr/local/lib/python3.7/dist-packages/seaborn/_decorators.py:43: FutureWarning: Pass the following variables as keyword args: x, y. From version 0.12, the only valid positional argument will be `data`, and passing other arguments without an explicit keyword will result in an error or misinterpretation.\n",
            "  FutureWarning\n"
          ]
        },
        {
          "output_type": "display_data",
          "data": {
            "text/plain": [
              "<Figure size 1008x648 with 1 Axes>"
            ],
            "image/png": "[encoded data removed]"
          },
          "metadata": {}
        }
      ]
    },
    {
      "cell_type": "markdown",
      "source": [
        "## Best Model Algorithm\n",
        "> Selected Algorithms as the best, by the authors choice."
      ],
      "metadata": {
        "id": "vorQlEdGAOCy"
      }
    },
    {
      "cell_type": "code",
      "source": [
        "ax = sns.countplot(df_final['BestModel'])\n",
        "show_values_on_bars(ax)\n",
        "ax.set_title('Algorithms selected',fontsize=24)\n",
        "ax.set_xticklabels(ax.get_xticklabels(), rotation=40, ha=\"right\")\n",
        "plt.savefig('bestmodel.png', bbox_inches='tight')"
      ],
      "metadata": {
        "colab": {
          "base_uri": "https://localhost:8080/",
          "height": 0
        },
        "id": "ZIm4mkYYANdi",
        "outputId": "eb178a6d-12a3-49ca-cf31-191cc0078eeb"
      },
      "execution_count": 50,
      "outputs": [
        {
          "output_type": "stream",
          "name": "stderr",
          "text": [
            "/usr/local/lib/python3.7/dist-packages/seaborn/_decorators.py:43: FutureWarning: Pass the following variable as a keyword arg: x. From version 0.12, the only valid positional argument will be `data`, and passing other arguments without an explicit keyword will result in an error or misinterpretation.\n",
            "  FutureWarning\n"
          ]
        },
        {
          "output_type": "display_data",
          "data": {
            "text/plain": [
              "<Figure size 1008x648 with 1 Axes>"
            ],
            "image/png": "[encoded data removed]"
          },
          "metadata": {}
        }
      ]
    },
    {
      "cell_type": "code",
      "source": [
        "pd.unique(df_final['BestModel'])"
      ],
      "metadata": {
        "colab": {
          "base_uri": "https://localhost:8080/"
        },
        "id": "xyTKUeA4Ezi5",
        "outputId": "e0078d28-6c46-4831-9c5f-92292fddbdaf"
      },
      "execution_count": 51,
      "outputs": [
        {
          "output_type": "execute_result",
          "data": {
            "text/plain": [
              "array(['XGB', 'Gradient Boosting', 'Random Forest', 'ANN', 'CatBoost',\n",
              "       'Decision Tree', 'GBM'], dtype=object)"
            ]
          },
          "metadata": {},
          "execution_count": 51
        }
      ]
    },
    {
      "cell_type": "markdown",
      "source": [
        "## Selection Rate Model\n",
        "> In order to get a good understanding of each notebook internal competition, we are reviewing algorithms selected as the best when there was more than one algorithm. This is the selection rate."
      ],
      "metadata": {
        "id": "iKD-yGRULenb"
      }
    },
    {
      "cell_type": "code",
      "source": [
        "df_final['BestModel'] = df_final['BestModel'].str.strip(' ')\n",
        "df_final['BestModel'] = df_final['BestModel'].str.replace(' ', '')"
      ],
      "metadata": {
        "id": "wjy3ciHYDINu"
      },
      "execution_count": 52,
      "outputs": []
    },
    {
      "cell_type": "code",
      "source": [
        "mylist = []\n",
        "algorithms = pd.unique(test.index)\n",
        "df_final['nums'] =  df_final['AlgUsed'].str.len()\n",
        "df_algs = df_final[df_final['nums'] > 1]\n",
        "df_algs\n",
        "mylist = [['alg','percentage']]\n",
        "for alg in algorithms:\n",
        "  if any(df_algs['BestModel'] == alg):\n",
        "    mylist.append([alg, (df_algs['BestModel'].value_counts()[alg]) / (pd.Series(list(chain.from_iterable(df_algs['AlgUsed']))).value_counts()[alg])*100  ])\n",
        "  else:\n",
        "    pass"
      ],
      "metadata": {
        "id": "dGFDNoZSApVz"
      },
      "execution_count": 53,
      "outputs": []
    },
    {
      "cell_type": "code",
      "source": [
        "df_percentage = pd.DataFrame(mylist[1:], columns= mylist[0])\n",
        "ax = sns.barplot(df_percentage['alg'], df_percentage['percentage'])\n",
        "ax.set(ylabel='percentage in %')\n",
        "ax.set_title('Highest selected algorithm',fontsize=24)\n",
        "show_values_on_bars(ax)\n",
        "ax.set_xticklabels(ax.get_xticklabels(), rotation=40, ha=\"right\")\n",
        "plt.savefig('highest.png', bbox_inches='tight')"
      ],
      "metadata": {
        "colab": {
          "base_uri": "https://localhost:8080/",
          "height": 0
        },
        "id": "JVlkREJYHF9b",
        "outputId": "eb11a62a-4bed-4cfa-b349-b57b0e19def7"
      },
      "execution_count": 54,
      "outputs": [
        {
          "output_type": "stream",
          "name": "stderr",
          "text": [
            "/usr/local/lib/python3.7/dist-packages/seaborn/_decorators.py:43: FutureWarning: Pass the following variables as keyword args: x, y. From version 0.12, the only valid positional argument will be `data`, and passing other arguments without an explicit keyword will result in an error or misinterpretation.\n",
            "  FutureWarning\n"
          ]
        },
        {
          "output_type": "display_data",
          "data": {
            "text/plain": [
              "<Figure size 1008x648 with 1 Axes>"
            ],
            "image/png": "[encoded data removed]"
          },
          "metadata": {}
        }
      ]
    },
    {
      "cell_type": "markdown",
      "source": [
        "## Metrics used\n",
        "\n",
        ">Metrics selected or present in each notebook."
      ],
      "metadata": {
        "id": "T1lXsdXHSy9D"
      }
    },
    {
      "cell_type": "code",
      "source": [
        "\n",
        "test2 = pd.Series(list(chain.from_iterable(df_final['MetricUsed']))).value_counts()\n",
        "test2\n",
        "ax = sns.barplot(test2.index, test2.values)\n",
        "ax.set_title('All  applied metrics',fontsize=24)\n",
        "show_values_on_bars(ax)\n",
        "\n",
        "plt.savefig('metrics.png', bbox_inches='tight')"
      ],
      "metadata": {
        "colab": {
          "base_uri": "https://localhost:8080/",
          "height": 0
        },
        "id": "EOmAmhBIsmHV",
        "outputId": "32c7ec8c-2778-47d6-992b-796241c4918f"
      },
      "execution_count": 55,
      "outputs": [
        {
          "output_type": "stream",
          "name": "stderr",
          "text": [
            "/usr/local/lib/python3.7/dist-packages/seaborn/_decorators.py:43: FutureWarning: Pass the following variables as keyword args: x, y. From version 0.12, the only valid positional argument will be `data`, and passing other arguments without an explicit keyword will result in an error or misinterpretation.\n",
            "  FutureWarning\n"
          ]
        },
        {
          "output_type": "display_data",
          "data": {
            "text/plain": [
              "<Figure size 1008x648 with 1 Axes>"
            ],
            "image/png": "[encoded data removed]"
          },
          "metadata": {}
        }
      ]
    },
    {
      "cell_type": "markdown",
      "source": [],
      "metadata": {
        "id": "iN77REFVD9O4"
      }
    },
    {
      "cell_type": "markdown",
      "source": [
        "## Metric Goal\n",
        "> As best model , by author's comments , the metric that qualifies the notebooks result."
      ],
      "metadata": {
        "id": "oQtuKegG9P4N"
      }
    },
    {
      "cell_type": "code",
      "source": [
        "ax = sns.countplot(df_final['MetricGoal'])\n",
        "ax.set_title('Metric Goal',fontsize=24)\n",
        "\n",
        "show_values_on_bars(ax)\n",
        "plt.savefig('metric_goal.png', bbox_inches='tight')"
      ],
      "metadata": {
        "colab": {
          "base_uri": "https://localhost:8080/",
          "height": 0
        },
        "id": "Sam02In69O4V",
        "outputId": "1e4df453-ca40-46f8-ec54-22017ce6568e"
      },
      "execution_count": 56,
      "outputs": [
        {
          "output_type": "stream",
          "name": "stderr",
          "text": [
            "/usr/local/lib/python3.7/dist-packages/seaborn/_decorators.py:43: FutureWarning: Pass the following variable as a keyword arg: x. From version 0.12, the only valid positional argument will be `data`, and passing other arguments without an explicit keyword will result in an error or misinterpretation.\n",
            "  FutureWarning\n"
          ]
        },
        {
          "output_type": "display_data",
          "data": {
            "text/plain": [
              "<Figure size 1008x648 with 1 Axes>"
            ],
            "image/png": "[encoded data removed]"
          },
          "metadata": {}
        }
      ]
    },
    {
      "cell_type": "markdown",
      "source": [
        "## Is Smote Used\n",
        "> How many notebooks used Smote oversampler"
      ],
      "metadata": {
        "id": "inxlvpU9S2bl"
      }
    },
    {
      "cell_type": "code",
      "source": [
        "import seaborn as sns\n",
        "ax = sns.countplot(x=\"SmoteApplied\", data=df)\n",
        "#ax.set_tile('Smote implemented',fontsize=42)\n",
        "show_values_on_bars(ax)\n",
        "plt.savefig('Smoteimp.png', bbox_inches='tight')"
      ],
      "metadata": {
        "colab": {
          "base_uri": "https://localhost:8080/",
          "height": 0
        },
        "id": "pev-keJ4XLlW",
        "outputId": "18ad25b3-4c69-4988-ff50-5c4c06ac9cb1"
      },
      "execution_count": 57,
      "outputs": [
        {
          "output_type": "display_data",
          "data": {
            "text/plain": [
              "<Figure size 1008x648 with 1 Axes>"
            ],
            "image/png": "[encoded data removed]"
          },
          "metadata": {}
        }
      ]
    },
    {
      "cell_type": "markdown",
      "source": [
        "# Findings:\n",
        "\n",
        "- Smote is hardly an option in the entire competition, few people actually use any kind of oversampler, it may be a lack of knowledge or that they did not see the convenience of it, but only 4/30 have used Smote. \n",
        "\n",
        "- Accuracy is mainly the only option for all the scientist out there, achieving a mean of 0.8439, a value we seek to pass.\n",
        "\n",
        "- Neuronal Networks are the main approach in order to start solving the riddle, its been applied 19/30. Nevertheless, it doesnt have that much of a selection rate as XGB. Even More, its rate is really low when competing with others algorithms, 14.29% rate. XGB gets a 71.43% in this matter.\n",
        "\n",
        "- Boosting Algorithms (XGB) are the most selected algorithm with a 71.43% of selection/participation.\n",
        "\n",
        "- Logistic Reg is also one of the most used algorithms, problably because of its simplicity, because we can clearly see it hasnt been selected a single time as the best model.\n",
        "\n",
        "- CatBoost and GBM have a 100% selection rate,but they only have been selected in the competition once."
      ],
      "metadata": {
        "id": "0EMlJosAB2gK"
      }
    },
    {
      "cell_type": "markdown",
      "source": [
        "#  Competition with our results\n",
        "> Results achieved in our [classifier notebook](https://github.com/Ljmarcer/Smote_Variants/blob/main/Smote_Variants_Classifier.ipynb) compared to these notebooks, we are going to take into account all the project that contains at least 2 metrics that we have.  "
      ],
      "metadata": {
        "id": "Ou5ruW7-2_zd"
      }
    },
    {
      "cell_type": "code",
      "source": [
        "df_comp = df_final[df_final.isin([\"Recall\"]).any(axis=1)]\n",
        "df_comp['ID'] = df['ID'].apply(str)"
      ],
      "metadata": {
        "id": "Kb3t4AHYxe7W",
        "colab": {
          "base_uri": "https://localhost:8080/"
        },
        "outputId": "d33f6080-7655-44ca-ba16-c31afc1e3044"
      },
      "execution_count": 58,
      "outputs": [
        {
          "output_type": "stream",
          "name": "stderr",
          "text": [
            "/usr/local/lib/python3.7/dist-packages/ipykernel_launcher.py:2: SettingWithCopyWarning: \n",
            "A value is trying to be set on a copy of a slice from a DataFrame.\n",
            "Try using .loc[row_indexer,col_indexer] = value instead\n",
            "\n",
            "See the caveats in the documentation: https://pandas.pydata.org/pandas-docs/stable/user_guide/indexing.html#returning-a-view-versus-a-copy\n",
            "  \n"
          ]
        }
      ]
    },
    {
      "cell_type": "code",
      "source": [
        "df_comp = df_comp[1:]"
      ],
      "metadata": {
        "id": "txEMDBLCzkr9"
      },
      "execution_count": 59,
      "outputs": []
    },
    {
      "cell_type": "code",
      "source": [
        "df_comp['team'] = 'rivals'"
      ],
      "metadata": {
        "id": "eyNvCh9wV01c"
      },
      "execution_count": 60,
      "outputs": []
    },
    {
      "cell_type": "code",
      "source": [
        "df_comp.rename(columns = {'BestModelValue_0':'accuracy','BestModelValue_1': 'recall', 'BestModelValue_2':'precision', 'BestModelValue_3':'f1-score'}, inplace= True)"
      ],
      "metadata": {
        "id": "X84q1KE-Wot0"
      },
      "execution_count": 61,
      "outputs": []
    },
    {
      "cell_type": "code",
      "source": [
        "df_them = df_comp[['precision','recall','f1-score','accuracy','ID','team']]"
      ],
      "metadata": {
        "id": "0I67JZr2XGW0"
      },
      "execution_count": 62,
      "outputs": []
    },
    {
      "cell_type": "code",
      "source": [
        "df_1 = df_1.replace(\"LGNM\",\"LGBM\")\n",
        "df_1['ID'] = df_1['ovr'] + \"_\" + df_1['alg']\n",
        "df_1"
      ],
      "metadata": {
        "colab": {
          "base_uri": "https://localhost:8080/",
          "height": 206
        },
        "id": "UxZvgyh5CKVW",
        "outputId": "4eabbef3-218d-4836-f1ca-25e4b07c2563"
      },
      "execution_count": 63,
      "outputs": [
        {
          "output_type": "execute_result",
          "data": {
            "text/plain": [
              "   Unnamed: 0  precision    recall  f1-score  support               ovr   alg  \\\n",
              "0           7   0.746623  0.798957  0.765654     1000             Smote   XGB   \n",
              "1           8   0.738648  0.787943  0.756679     1000               Lee   XGB   \n",
              "2          14   0.717245  0.783080  0.735832     1000               Lee  LGBM   \n",
              "3          13   0.713150  0.778754  0.731264     1000             Smote  LGBM   \n",
              "4          16   0.772933  0.738503  0.753216     1000  Supervised-Smote  LGBM   \n",
              "\n",
              "     acc                     ID  \n",
              "0  0.830              Smote_XGB  \n",
              "1  0.824                Lee_XGB  \n",
              "2  0.799               Lee_LGBM  \n",
              "3  0.795             Smote_LGBM  \n",
              "4  0.849  Supervised-Smote_LGBM  "
            ],
            "text/html": [
              "\n",
              "  <div id=\"df-f032e72f-86cd-427c-9a5d-6dcc957e5420\">\n",
              "    <div class=\"colab-df-container\">\n",
              "      <div>\n",
              "<style scoped>\n",
              "    .dataframe tbody tr th:only-of-type {\n",
              "        vertical-align: middle;\n",
              "    }\n",
              "\n",
              "    .dataframe tbody tr th {\n",
              "        vertical-align: top;\n",
              "    }\n",
              "\n",
              "    .dataframe thead th {\n",
              "        text-align: right;\n",
              "    }\n",
              "</style>\n",
              "<table border=\"1\" class=\"dataframe\">\n",
              "  <thead>\n",
              "    <tr style=\"text-align: right;\">\n",
              "      <th></th>\n",
              "      <th>Unnamed: 0</th>\n",
              "      <th>precision</th>\n",
              "      <th>recall</th>\n",
              "      <th>f1-score</th>\n",
              "      <th>support</th>\n",
              "      <th>ovr</th>\n",
              "      <th>alg</th>\n",
              "      <th>acc</th>\n",
              "      <th>ID</th>\n",
              "    </tr>\n",
              "  </thead>\n",
              "  <tbody>\n",
              "    <tr>\n",
              "      <th>0</th>\n",
              "      <td>7</td>\n",
              "      <td>0.746623</td>\n",
              "      <td>0.798957</td>\n",
              "      <td>0.765654</td>\n",
              "      <td>1000</td>\n",
              "      <td>Smote</td>\n",
              "      <td>XGB</td>\n",
              "      <td>0.830</td>\n",
              "      <td>Smote_XGB</td>\n",
              "    </tr>\n",
              "    <tr>\n",
              "      <th>1</th>\n",
              "      <td>8</td>\n",
              "      <td>0.738648</td>\n",
              "      <td>0.787943</td>\n",
              "      <td>0.756679</td>\n",
              "      <td>1000</td>\n",
              "      <td>Lee</td>\n",
              "      <td>XGB</td>\n",
              "      <td>0.824</td>\n",
              "      <td>Lee_XGB</td>\n",
              "    </tr>\n",
              "    <tr>\n",
              "      <th>2</th>\n",
              "      <td>14</td>\n",
              "      <td>0.717245</td>\n",
              "      <td>0.783080</td>\n",
              "      <td>0.735832</td>\n",
              "      <td>1000</td>\n",
              "      <td>Lee</td>\n",
              "      <td>LGBM</td>\n",
              "      <td>0.799</td>\n",
              "      <td>Lee_LGBM</td>\n",
              "    </tr>\n",
              "    <tr>\n",
              "      <th>3</th>\n",
              "      <td>13</td>\n",
              "      <td>0.713150</td>\n",
              "      <td>0.778754</td>\n",
              "      <td>0.731264</td>\n",
              "      <td>1000</td>\n",
              "      <td>Smote</td>\n",
              "      <td>LGBM</td>\n",
              "      <td>0.795</td>\n",
              "      <td>Smote_LGBM</td>\n",
              "    </tr>\n",
              "    <tr>\n",
              "      <th>4</th>\n",
              "      <td>16</td>\n",
              "      <td>0.772933</td>\n",
              "      <td>0.738503</td>\n",
              "      <td>0.753216</td>\n",
              "      <td>1000</td>\n",
              "      <td>Supervised-Smote</td>\n",
              "      <td>LGBM</td>\n",
              "      <td>0.849</td>\n",
              "      <td>Supervised-Smote_LGBM</td>\n",
              "    </tr>\n",
              "  </tbody>\n",
              "</table>\n",
              "</div>\n",
              "      <button class=\"colab-df-convert\" onclick=\"convertToInteractive('df-f032e72f-86cd-427c-9a5d-6dcc957e5420')\"\n",
              "              title=\"Convert this dataframe to an interactive table.\"\n",
              "              style=\"display:none;\">\n",
              "        \n",
              "  <svg xmlns=\"http://www.w3.org/2000/svg\" height=\"24px\"viewBox=\"0 0 24 24\"\n",
              "       width=\"24px\">\n",
              "    <path d=\"M0 0h24v24H0V0z\" fill=\"none\"/>\n",
              "    <path d=\"M18.56 5.44l.94 2.06.94-2.06 2.06-.94-2.06-.94-.94-2.06-.94 2.06-2.06.94zm-11 1L8.5 8.5l.94-2.06 2.06-.94-2.06-.94L8.5 2.5l-.94 2.06-2.06.94zm10 10l.94 2.06.94-2.06 2.06-.94-2.06-.94-.94-2.06-.94 2.06-2.06.94z\"/><path d=\"M17.41 7.96l-1.37-1.37c-.4-.4-.92-.59-1.43-.59-.52 0-1.04.2-1.43.59L10.3 9.45l-7.72 7.72c-.78.78-.78 2.05 0 2.83L4 21.41c.39.39.9.59 1.41.59.51 0 1.02-.2 1.41-.59l7.78-7.78 2.81-2.81c.8-.78.8-2.07 0-2.86zM5.41 20L4 18.59l7.72-7.72 1.47 1.35L5.41 20z\"/>\n",
              "  </svg>\n",
              "      </button>\n",
              "      \n",
              "  <style>\n",
              "    .colab-df-container {\n",
              "      display:flex;\n",
              "      flex-wrap:wrap;\n",
              "      gap: 12px;\n",
              "    }\n",
              "\n",
              "    .colab-df-convert {\n",
              "      background-color: #E8F0FE;\n",
              "      border: none;\n",
              "      border-radius: 50%;\n",
              "      cursor: pointer;\n",
              "      display: none;\n",
              "      fill: #1967D2;\n",
              "      height: 32px;\n",
              "      padding: 0 0 0 0;\n",
              "      width: 32px;\n",
              "    }\n",
              "\n",
              "    .colab-df-convert:hover {\n",
              "      background-color: #E2EBFA;\n",
              "      box-shadow: 0px 1px 2px rgba(60, 64, 67, 0.3), 0px 1px 3px 1px rgba(60, 64, 67, 0.15);\n",
              "      fill: #174EA6;\n",
              "    }\n",
              "\n",
              "    [theme=dark] .colab-df-convert {\n",
              "      background-color: #3B4455;\n",
              "      fill: #D2E3FC;\n",
              "    }\n",
              "\n",
              "    [theme=dark] .colab-df-convert:hover {\n",
              "      background-color: #434B5C;\n",
              "      box-shadow: 0px 1px 3px 1px rgba(0, 0, 0, 0.15);\n",
              "      filter: drop-shadow(0px 1px 2px rgba(0, 0, 0, 0.3));\n",
              "      fill: #FFFFFF;\n",
              "    }\n",
              "  </style>\n",
              "\n",
              "      <script>\n",
              "        const buttonEl =\n",
              "          document.querySelector('#df-f032e72f-86cd-427c-9a5d-6dcc957e5420 button.colab-df-convert');\n",
              "        buttonEl.style.display =\n",
              "          google.colab.kernel.accessAllowed ? 'block' : 'none';\n",
              "\n",
              "        async function convertToInteractive(key) {\n",
              "          const element = document.querySelector('#df-f032e72f-86cd-427c-9a5d-6dcc957e5420');\n",
              "          const dataTable =\n",
              "            await google.colab.kernel.invokeFunction('convertToInteractive',\n",
              "                                                     [key], {});\n",
              "          if (!dataTable) return;\n",
              "\n",
              "          const docLinkHtml = 'Like what you see? Visit the ' +\n",
              "            '<a target=\"_blank\" href=https://colab.research.google.com/notebooks/data_table.ipynb>data table notebook</a>'\n",
              "            + ' to learn more about interactive tables.';\n",
              "          element.innerHTML = '';\n",
              "          dataTable['output_type'] = 'display_data';\n",
              "          await google.colab.output.renderOutput(dataTable, element);\n",
              "          const docLink = document.createElement('div');\n",
              "          docLink.innerHTML = docLinkHtml;\n",
              "          element.appendChild(docLink);\n",
              "        }\n",
              "      </script>\n",
              "    </div>\n",
              "  </div>\n",
              "  "
            ]
          },
          "metadata": {},
          "execution_count": 63
        }
      ]
    },
    {
      "cell_type": "code",
      "source": [
        "df_us = df_1[['precision','recall','acc','f1-score','ID']]"
      ],
      "metadata": {
        "id": "L7xB2NyrV7jE"
      },
      "execution_count": 64,
      "outputs": []
    },
    {
      "cell_type": "code",
      "source": [
        "df_us = df_us.rename(columns = {'acc':'accuracy'})"
      ],
      "metadata": {
        "id": "2GaE2x18Qdxs"
      },
      "execution_count": 65,
      "outputs": []
    },
    {
      "cell_type": "code",
      "source": [
        "df_us['team'] = 'us'"
      ],
      "metadata": {
        "id": "mMZSPbX9WY5U"
      },
      "execution_count": 66,
      "outputs": []
    },
    {
      "cell_type": "code",
      "source": [
        "df_united = pd.concat([df_us,df_them], axis=0)"
      ],
      "metadata": {
        "id": "wqfbWD1WWdLz"
      },
      "execution_count": 67,
      "outputs": []
    },
    {
      "cell_type": "code",
      "source": [
        "df_united.head()"
      ],
      "metadata": {
        "colab": {
          "base_uri": "https://localhost:8080/",
          "height": 206
        },
        "id": "OX8s9VpaBudN",
        "outputId": "935ba931-9c35-4d19-818f-bdf8133ec6a2"
      },
      "execution_count": 68,
      "outputs": [
        {
          "output_type": "execute_result",
          "data": {
            "text/plain": [
              "  precision    recall accuracy  f1-score                     ID team\n",
              "0  0.746623  0.798957     0.83  0.765654              Smote_XGB   us\n",
              "1  0.738648  0.787943    0.824  0.756679                Lee_XGB   us\n",
              "2  0.717245   0.78308    0.799  0.735832               Lee_LGBM   us\n",
              "3   0.71315  0.778754    0.795  0.731264             Smote_LGBM   us\n",
              "4  0.772933  0.738503    0.849  0.753216  Supervised-Smote_LGBM   us"
            ],
            "text/html": [
              "\n",
              "  <div id=\"df-38bd0c34-538e-40e7-b389-a4e9a9e8c68f\">\n",
              "    <div class=\"colab-df-container\">\n",
              "      <div>\n",
              "<style scoped>\n",
              "    .dataframe tbody tr th:only-of-type {\n",
              "        vertical-align: middle;\n",
              "    }\n",
              "\n",
              "    .dataframe tbody tr th {\n",
              "        vertical-align: top;\n",
              "    }\n",
              "\n",
              "    .dataframe thead th {\n",
              "        text-align: right;\n",
              "    }\n",
              "</style>\n",
              "<table border=\"1\" class=\"dataframe\">\n",
              "  <thead>\n",
              "    <tr style=\"text-align: right;\">\n",
              "      <th></th>\n",
              "      <th>precision</th>\n",
              "      <th>recall</th>\n",
              "      <th>accuracy</th>\n",
              "      <th>f1-score</th>\n",
              "      <th>ID</th>\n",
              "      <th>team</th>\n",
              "    </tr>\n",
              "  </thead>\n",
              "  <tbody>\n",
              "    <tr>\n",
              "      <th>0</th>\n",
              "      <td>0.746623</td>\n",
              "      <td>0.798957</td>\n",
              "      <td>0.83</td>\n",
              "      <td>0.765654</td>\n",
              "      <td>Smote_XGB</td>\n",
              "      <td>us</td>\n",
              "    </tr>\n",
              "    <tr>\n",
              "      <th>1</th>\n",
              "      <td>0.738648</td>\n",
              "      <td>0.787943</td>\n",
              "      <td>0.824</td>\n",
              "      <td>0.756679</td>\n",
              "      <td>Lee_XGB</td>\n",
              "      <td>us</td>\n",
              "    </tr>\n",
              "    <tr>\n",
              "      <th>2</th>\n",
              "      <td>0.717245</td>\n",
              "      <td>0.78308</td>\n",
              "      <td>0.799</td>\n",
              "      <td>0.735832</td>\n",
              "      <td>Lee_LGBM</td>\n",
              "      <td>us</td>\n",
              "    </tr>\n",
              "    <tr>\n",
              "      <th>3</th>\n",
              "      <td>0.71315</td>\n",
              "      <td>0.778754</td>\n",
              "      <td>0.795</td>\n",
              "      <td>0.731264</td>\n",
              "      <td>Smote_LGBM</td>\n",
              "      <td>us</td>\n",
              "    </tr>\n",
              "    <tr>\n",
              "      <th>4</th>\n",
              "      <td>0.772933</td>\n",
              "      <td>0.738503</td>\n",
              "      <td>0.849</td>\n",
              "      <td>0.753216</td>\n",
              "      <td>Supervised-Smote_LGBM</td>\n",
              "      <td>us</td>\n",
              "    </tr>\n",
              "  </tbody>\n",
              "</table>\n",
              "</div>\n",
              "      <button class=\"colab-df-convert\" onclick=\"convertToInteractive('df-38bd0c34-538e-40e7-b389-a4e9a9e8c68f')\"\n",
              "              title=\"Convert this dataframe to an interactive table.\"\n",
              "              style=\"display:none;\">\n",
              "        \n",
              "  <svg xmlns=\"http://www.w3.org/2000/svg\" height=\"24px\"viewBox=\"0 0 24 24\"\n",
              "       width=\"24px\">\n",
              "    <path d=\"M0 0h24v24H0V0z\" fill=\"none\"/>\n",
              "    <path d=\"M18.56 5.44l.94 2.06.94-2.06 2.06-.94-2.06-.94-.94-2.06-.94 2.06-2.06.94zm-11 1L8.5 8.5l.94-2.06 2.06-.94-2.06-.94L8.5 2.5l-.94 2.06-2.06.94zm10 10l.94 2.06.94-2.06 2.06-.94-2.06-.94-.94-2.06-.94 2.06-2.06.94z\"/><path d=\"M17.41 7.96l-1.37-1.37c-.4-.4-.92-.59-1.43-.59-.52 0-1.04.2-1.43.59L10.3 9.45l-7.72 7.72c-.78.78-.78 2.05 0 2.83L4 21.41c.39.39.9.59 1.41.59.51 0 1.02-.2 1.41-.59l7.78-7.78 2.81-2.81c.8-.78.8-2.07 0-2.86zM5.41 20L4 18.59l7.72-7.72 1.47 1.35L5.41 20z\"/>\n",
              "  </svg>\n",
              "      </button>\n",
              "      \n",
              "  <style>\n",
              "    .colab-df-container {\n",
              "      display:flex;\n",
              "      flex-wrap:wrap;\n",
              "      gap: 12px;\n",
              "    }\n",
              "\n",
              "    .colab-df-convert {\n",
              "      background-color: #E8F0FE;\n",
              "      border: none;\n",
              "      border-radius: 50%;\n",
              "      cursor: pointer;\n",
              "      display: none;\n",
              "      fill: #1967D2;\n",
              "      height: 32px;\n",
              "      padding: 0 0 0 0;\n",
              "      width: 32px;\n",
              "    }\n",
              "\n",
              "    .colab-df-convert:hover {\n",
              "      background-color: #E2EBFA;\n",
              "      box-shadow: 0px 1px 2px rgba(60, 64, 67, 0.3), 0px 1px 3px 1px rgba(60, 64, 67, 0.15);\n",
              "      fill: #174EA6;\n",
              "    }\n",
              "\n",
              "    [theme=dark] .colab-df-convert {\n",
              "      background-color: #3B4455;\n",
              "      fill: #D2E3FC;\n",
              "    }\n",
              "\n",
              "    [theme=dark] .colab-df-convert:hover {\n",
              "      background-color: #434B5C;\n",
              "      box-shadow: 0px 1px 3px 1px rgba(0, 0, 0, 0.15);\n",
              "      filter: drop-shadow(0px 1px 2px rgba(0, 0, 0, 0.3));\n",
              "      fill: #FFFFFF;\n",
              "    }\n",
              "  </style>\n",
              "\n",
              "      <script>\n",
              "        const buttonEl =\n",
              "          document.querySelector('#df-38bd0c34-538e-40e7-b389-a4e9a9e8c68f button.colab-df-convert');\n",
              "        buttonEl.style.display =\n",
              "          google.colab.kernel.accessAllowed ? 'block' : 'none';\n",
              "\n",
              "        async function convertToInteractive(key) {\n",
              "          const element = document.querySelector('#df-38bd0c34-538e-40e7-b389-a4e9a9e8c68f');\n",
              "          const dataTable =\n",
              "            await google.colab.kernel.invokeFunction('convertToInteractive',\n",
              "                                                     [key], {});\n",
              "          if (!dataTable) return;\n",
              "\n",
              "          const docLinkHtml = 'Like what you see? Visit the ' +\n",
              "            '<a target=\"_blank\" href=https://colab.research.google.com/notebooks/data_table.ipynb>data table notebook</a>'\n",
              "            + ' to learn more about interactive tables.';\n",
              "          element.innerHTML = '';\n",
              "          dataTable['output_type'] = 'display_data';\n",
              "          await google.colab.output.renderOutput(dataTable, element);\n",
              "          const docLink = document.createElement('div');\n",
              "          docLink.innerHTML = docLinkHtml;\n",
              "          element.appendChild(docLink);\n",
              "        }\n",
              "      </script>\n",
              "    </div>\n",
              "  </div>\n",
              "  "
            ]
          },
          "metadata": {},
          "execution_count": 68
        }
      ]
    },
    {
      "cell_type": "code",
      "source": [
        "for column in ['precision','recall','accuracy','f1-score']:\n",
        "  df_united[column] = df_united[column].apply(lambda x: float(x))"
      ],
      "metadata": {
        "id": "SWrRxR2ySMci"
      },
      "execution_count": 69,
      "outputs": []
    },
    {
      "cell_type": "code",
      "source": [
        "df_m = df_united.melt(id_vars=[\"ID\",\"team\"], \n",
        "        var_name=\"Metric\", \n",
        "        value_name=\"Value\").reset_index(drop=True)"
      ],
      "metadata": {
        "id": "w0Ow3L3hX4NK"
      },
      "execution_count": 70,
      "outputs": []
    },
    {
      "cell_type": "markdown",
      "source": [
        "## Visualizing The results"
      ],
      "metadata": {
        "id": "CprwNpzNEQsm"
      }
    },
    {
      "cell_type": "code",
      "source": [
        "g = sns.relplot(x=\"ID\", y=\"Value\", hue=\"team\",facet_kws={'sharey': False, 'sharex': True},\n",
        "            col=\"Metric\", col_wrap=2, data=df_m);\n",
        "            #move overall title up\n",
        "g.fig.subplots_adjust(top=.9)\n",
        "\n",
        "#add overall title\n",
        "g.fig.suptitle('Competetion comparison',fontsize=24 )\n",
        "for axes in g.axes.flat:\n",
        "    axes.set_xticklabels(axes.get_xticklabels(), rotation=40 ,ha=\"right\",   )\n",
        "    show_values_on_bars(axes)\n",
        "    #axes.invert_yaxis()\n",
        "g.savefig('Comparison.png', bbox_inches='tight')"
      ],
      "metadata": {
        "colab": {
          "base_uri": "https://localhost:8080/",
          "height": 803
        },
        "id": "cYCr9X7UBVh2",
        "outputId": "a5f4869b-b6d1-4534-8a81-8d3bb7181cbc"
      },
      "execution_count": 71,
      "outputs": [
        {
          "output_type": "display_data",
          "data": {
            "text/plain": [
              "<Figure size 783.125x720 with 4 Axes>"
            ],
            "image/png": "[encoded data removed]"
          },
          "metadata": {}
        }
      ]
    },
    {
      "cell_type": "code",
      "source": [
        "import plotly.graph_objects as go\n",
        "from plotly.subplots import make_subplots\n",
        "from plotly import express as px\n",
        "fig = px.scatter(df_m, x=\"Metric\", y=\"Value\" , color = 'team' , symbol='Metric')\n",
        "fig.update_traces(marker=dict(size=16,\n",
        "                              line=dict(width=3,\n",
        "                                        color='DarkSlateGrey')),\n",
        "                  selector=dict(mode='markers'))\n",
        "fig.show()"
      ],
      "metadata": {
        "colab": {
          "base_uri": "https://localhost:8080/",
          "height": 542
        },
        "id": "ikR2JTJZZZIC",
        "outputId": "1b140d0d-fe0e-460b-e94d-31908fee4a33"
      },
      "execution_count": 72,
      "outputs": [
        {
          "output_type": "display_data",
          "data": {
            "text/html": [
              "<html>\n",
              "<head><meta charset=\"utf-8\" /></head>\n",
              "<body>\n",
              "    <div>            <script src=\"https://cdnjs.cloudflare.com/ajax/libs/mathjax/2.7.5/MathJax.js?config=TeX-AMS-MML_SVG\"></script><script type=\"text/javascript\">if (window.MathJax) {MathJax.Hub.Config({SVG: {font: \"STIX-Web\"}});}</script>                <script type=\"text/javascript\">window.PlotlyConfig = {MathJaxConfig: 'local'};</script>\n",
              "        <script src=\"https://cdn.plot.ly/plotly-2.8.3.min.js\"></script>                <div id=\"9b618e30-0a3b-4f9d-9273-c7d9b2824784\" class=\"plotly-graph-div\" style=\"height:525px; width:100%;\"></div>            <script type=\"text/javascript\">                                    window.PLOTLYENV=window.PLOTLYENV || {};                                    if (document.getElementById(\"9b618e30-0a3b-4f9d-9273-c7d9b2824784\")) {                    Plotly.newPlot(                        \"9b618e30-0a3b-4f9d-9273-c7d9b2824784\",                        [{\"hovertemplate\":\"team=us<br>Metric=%{x}<br>Value=%{y}<extra></extra>\",\"legendgroup\":\"us, precision\",\"marker\":{\"color\":\"#636efa\",\"symbol\":\"circle\",\"line\":{\"color\":\"DarkSlateGrey\",\"width\":3},\"size\":16},\"mode\":\"markers\",\"name\":\"us, precision\",\"orientation\":\"v\",\"showlegend\":true,\"x\":[\"precision\",\"precision\",\"precision\",\"precision\",\"precision\"],\"xaxis\":\"x\",\"y\":[0.7466225279536747,0.7386479792920021,0.7172449191011658,0.7131502890173411,0.7729328165374676],\"yaxis\":\"y\",\"type\":\"scatter\"},{\"hovertemplate\":\"team=us<br>Metric=%{x}<br>Value=%{y}<extra></extra>\",\"legendgroup\":\"us, recall\",\"marker\":{\"color\":\"#636efa\",\"symbol\":\"diamond\",\"line\":{\"color\":\"DarkSlateGrey\",\"width\":3},\"size\":16},\"mode\":\"markers\",\"name\":\"us, recall\",\"orientation\":\"v\",\"showlegend\":true,\"x\":[\"recall\",\"recall\",\"recall\",\"recall\",\"recall\"],\"xaxis\":\"x\",\"y\":[0.7989568952293297,0.7879429360331339,0.7830802270286854,0.7787544101856113,0.7385028378585673],\"yaxis\":\"y\",\"type\":\"scatter\"},{\"hovertemplate\":\"team=us<br>Metric=%{x}<br>Value=%{y}<extra></extra>\",\"legendgroup\":\"us, accuracy\",\"marker\":{\"color\":\"#636efa\",\"symbol\":\"square\",\"line\":{\"color\":\"DarkSlateGrey\",\"width\":3},\"size\":16},\"mode\":\"markers\",\"name\":\"us, accuracy\",\"orientation\":\"v\",\"showlegend\":true,\"x\":[\"accuracy\",\"accuracy\",\"accuracy\",\"accuracy\",\"accuracy\"],\"xaxis\":\"x\",\"y\":[0.83,0.824,0.799,0.795,0.849],\"yaxis\":\"y\",\"type\":\"scatter\"},{\"hovertemplate\":\"team=us<br>Metric=%{x}<br>Value=%{y}<extra></extra>\",\"legendgroup\":\"us, f1-score\",\"marker\":{\"color\":\"#636efa\",\"symbol\":\"x\",\"line\":{\"color\":\"DarkSlateGrey\",\"width\":3},\"size\":16},\"mode\":\"markers\",\"name\":\"us, f1-score\",\"orientation\":\"v\",\"showlegend\":true,\"x\":[\"f1-score\",\"f1-score\",\"f1-score\",\"f1-score\",\"f1-score\"],\"xaxis\":\"x\",\"y\":[0.7656542932133483,0.7566788880225183,0.7358318471136671,0.7312641987543768,0.7532159556507827],\"yaxis\":\"y\",\"type\":\"scatter\"},{\"hovertemplate\":\"team=rivals<br>Metric=%{x}<br>Value=%{y}<extra></extra>\",\"legendgroup\":\"rivals, precision\",\"marker\":{\"color\":\"#EF553B\",\"symbol\":\"circle\",\"line\":{\"color\":\"DarkSlateGrey\",\"width\":3},\"size\":16},\"mode\":\"markers\",\"name\":\"rivals, precision\",\"orientation\":\"v\",\"showlegend\":true,\"x\":[\"precision\",\"precision\",\"precision\",\"precision\",\"precision\",\"precision\",\"precision\",\"precision\"],\"xaxis\":\"x\",\"y\":[0.75,0.76,0.7,0.57,0.81,0.78,0.82,0.813],\"yaxis\":\"y\",\"type\":\"scatter\"},{\"hovertemplate\":\"team=rivals<br>Metric=%{x}<br>Value=%{y}<extra></extra>\",\"legendgroup\":\"rivals, recall\",\"marker\":{\"color\":\"#EF553B\",\"symbol\":\"diamond\",\"line\":{\"color\":\"DarkSlateGrey\",\"width\":3},\"size\":16},\"mode\":\"markers\",\"name\":\"rivals, recall\",\"orientation\":\"v\",\"showlegend\":true,\"x\":[\"recall\",\"recall\",\"recall\",\"recall\",\"recall\",\"recall\",\"recall\",\"recall\"],\"xaxis\":\"x\",\"y\":[0.51,0.75,0.69,0.71,0.71,0.72,0.355,0.3424],\"yaxis\":\"y\",\"type\":\"scatter\"},{\"hovertemplate\":\"team=rivals<br>Metric=%{x}<br>Value=%{y}<extra></extra>\",\"legendgroup\":\"rivals, accuracy\",\"marker\":{\"color\":\"#EF553B\",\"symbol\":\"square\",\"line\":{\"color\":\"DarkSlateGrey\",\"width\":3},\"size\":16},\"mode\":\"markers\",\"name\":\"rivals, accuracy\",\"orientation\":\"v\",\"showlegend\":true,\"x\":[\"accuracy\",\"accuracy\",\"accuracy\",\"accuracy\",\"accuracy\",\"accuracy\",\"accuracy\",\"accuracy\"],\"xaxis\":\"x\",\"y\":[0.8,0.86,0.8,0.81,0.86,0.85,0.8535,0.8566],\"yaxis\":\"y\",\"type\":\"scatter\"},{\"hovertemplate\":\"team=rivals<br>Metric=%{x}<br>Value=%{y}<extra></extra>\",\"legendgroup\":\"rivals, f1-score\",\"marker\":{\"color\":\"#EF553B\",\"symbol\":\"x\",\"line\":{\"color\":\"DarkSlateGrey\",\"width\":3},\"size\":16},\"mode\":\"markers\",\"name\":\"rivals, f1-score\",\"orientation\":\"v\",\"showlegend\":true,\"x\":[\"f1-score\",\"f1-score\",\"f1-score\",\"f1-score\",\"f1-score\",\"f1-score\",\"f1-score\",\"f1-score\"],\"xaxis\":\"x\",\"y\":[0.61,0.76,0.69,0.58,0.75,0.74,0.4957,0.6617],\"yaxis\":\"y\",\"type\":\"scatter\"}],                        {\"template\":{\"data\":{\"bar\":[{\"error_x\":{\"color\":\"#2a3f5f\"},\"error_y\":{\"color\":\"#2a3f5f\"},\"marker\":{\"line\":{\"color\":\"#E5ECF6\",\"width\":0.5},\"pattern\":{\"fillmode\":\"overlay\",\"size\":10,\"solidity\":0.2}},\"type\":\"bar\"}],\"barpolar\":[{\"marker\":{\"line\":{\"color\":\"#E5ECF6\",\"width\":0.5},\"pattern\":{\"fillmode\":\"overlay\",\"size\":10,\"solidity\":0.2}},\"type\":\"barpolar\"}],\"carpet\":[{\"aaxis\":{\"endlinecolor\":\"#2a3f5f\",\"gridcolor\":\"white\",\"linecolor\":\"white\",\"minorgridcolor\":\"white\",\"startlinecolor\":\"#2a3f5f\"},\"baxis\":{\"endlinecolor\":\"#2a3f5f\",\"gridcolor\":\"white\",\"linecolor\":\"white\",\"minorgridcolor\":\"white\",\"startlinecolor\":\"#2a3f5f\"},\"type\":\"carpet\"}],\"choropleth\":[{\"colorbar\":{\"outlinewidth\":0,\"ticks\":\"\"},\"type\":\"choropleth\"}],\"contour\":[{\"colorbar\":{\"outlinewidth\":0,\"ticks\":\"\"},\"colorscale\":[[0.0,\"#0d0887\"],[0.1111111111111111,\"#46039f\"],[0.2222222222222222,\"#7201a8\"],[0.3333333333333333,\"#9c179e\"],[0.4444444444444444,\"#bd3786\"],[0.5555555555555556,\"#d8576b\"],[0.6666666666666666,\"#ed7953\"],[0.7777777777777778,\"#fb9f3a\"],[0.8888888888888888,\"#fdca26\"],[1.0,\"#f0f921\"]],\"type\":\"contour\"}],\"contourcarpet\":[{\"colorbar\":{\"outlinewidth\":0,\"ticks\":\"\"},\"type\":\"contourcarpet\"}],\"heatmap\":[{\"colorbar\":{\"outlinewidth\":0,\"ticks\":\"\"},\"colorscale\":[[0.0,\"#0d0887\"],[0.1111111111111111,\"#46039f\"],[0.2222222222222222,\"#7201a8\"],[0.3333333333333333,\"#9c179e\"],[0.4444444444444444,\"#bd3786\"],[0.5555555555555556,\"#d8576b\"],[0.6666666666666666,\"#ed7953\"],[0.7777777777777778,\"#fb9f3a\"],[0.8888888888888888,\"#fdca26\"],[1.0,\"#f0f921\"]],\"type\":\"heatmap\"}],\"heatmapgl\":[{\"colorbar\":{\"outlinewidth\":0,\"ticks\":\"\"},\"colorscale\":[[0.0,\"#0d0887\"],[0.1111111111111111,\"#46039f\"],[0.2222222222222222,\"#7201a8\"],[0.3333333333333333,\"#9c179e\"],[0.4444444444444444,\"#bd3786\"],[0.5555555555555556,\"#d8576b\"],[0.6666666666666666,\"#ed7953\"],[0.7777777777777778,\"#fb9f3a\"],[0.8888888888888888,\"#fdca26\"],[1.0,\"#f0f921\"]],\"type\":\"heatmapgl\"}],\"histogram\":[{\"marker\":{\"pattern\":{\"fillmode\":\"overlay\",\"size\":10,\"solidity\":0.2}},\"type\":\"histogram\"}],\"histogram2d\":[{\"colorbar\":{\"outlinewidth\":0,\"ticks\":\"\"},\"colorscale\":[[0.0,\"#0d0887\"],[0.1111111111111111,\"#46039f\"],[0.2222222222222222,\"#7201a8\"],[0.3333333333333333,\"#9c179e\"],[0.4444444444444444,\"#bd3786\"],[0.5555555555555556,\"#d8576b\"],[0.6666666666666666,\"#ed7953\"],[0.7777777777777778,\"#fb9f3a\"],[0.8888888888888888,\"#fdca26\"],[1.0,\"#f0f921\"]],\"type\":\"histogram2d\"}],\"histogram2dcontour\":[{\"colorbar\":{\"outlinewidth\":0,\"ticks\":\"\"},\"colorscale\":[[0.0,\"#0d0887\"],[0.1111111111111111,\"#46039f\"],[0.2222222222222222,\"#7201a8\"],[0.3333333333333333,\"#9c179e\"],[0.4444444444444444,\"#bd3786\"],[0.5555555555555556,\"#d8576b\"],[0.6666666666666666,\"#ed7953\"],[0.7777777777777778,\"#fb9f3a\"],[0.8888888888888888,\"#fdca26\"],[1.0,\"#f0f921\"]],\"type\":\"histogram2dcontour\"}],\"mesh3d\":[{\"colorbar\":{\"outlinewidth\":0,\"ticks\":\"\"},\"type\":\"mesh3d\"}],\"parcoords\":[{\"line\":{\"colorbar\":{\"outlinewidth\":0,\"ticks\":\"\"}},\"type\":\"parcoords\"}],\"pie\":[{\"automargin\":true,\"type\":\"pie\"}],\"scatter\":[{\"marker\":{\"colorbar\":{\"outlinewidth\":0,\"ticks\":\"\"}},\"type\":\"scatter\"}],\"scatter3d\":[{\"line\":{\"colorbar\":{\"outlinewidth\":0,\"ticks\":\"\"}},\"marker\":{\"colorbar\":{\"outlinewidth\":0,\"ticks\":\"\"}},\"type\":\"scatter3d\"}],\"scattercarpet\":[{\"marker\":{\"colorbar\":{\"outlinewidth\":0,\"ticks\":\"\"}},\"type\":\"scattercarpet\"}],\"scattergeo\":[{\"marker\":{\"colorbar\":{\"outlinewidth\":0,\"ticks\":\"\"}},\"type\":\"scattergeo\"}],\"scattergl\":[{\"marker\":{\"colorbar\":{\"outlinewidth\":0,\"ticks\":\"\"}},\"type\":\"scattergl\"}],\"scattermapbox\":[{\"marker\":{\"colorbar\":{\"outlinewidth\":0,\"ticks\":\"\"}},\"type\":\"scattermapbox\"}],\"scatterpolar\":[{\"marker\":{\"colorbar\":{\"outlinewidth\":0,\"ticks\":\"\"}},\"type\":\"scatterpolar\"}],\"scatterpolargl\":[{\"marker\":{\"colorbar\":{\"outlinewidth\":0,\"ticks\":\"\"}},\"type\":\"scatterpolargl\"}],\"scatterternary\":[{\"marker\":{\"colorbar\":{\"outlinewidth\":0,\"ticks\":\"\"}},\"type\":\"scatterternary\"}],\"surface\":[{\"colorbar\":{\"outlinewidth\":0,\"ticks\":\"\"},\"colorscale\":[[0.0,\"#0d0887\"],[0.1111111111111111,\"#46039f\"],[0.2222222222222222,\"#7201a8\"],[0.3333333333333333,\"#9c179e\"],[0.4444444444444444,\"#bd3786\"],[0.5555555555555556,\"#d8576b\"],[0.6666666666666666,\"#ed7953\"],[0.7777777777777778,\"#fb9f3a\"],[0.8888888888888888,\"#fdca26\"],[1.0,\"#f0f921\"]],\"type\":\"surface\"}],\"table\":[{\"cells\":{\"fill\":{\"color\":\"#EBF0F8\"},\"line\":{\"color\":\"white\"}},\"header\":{\"fill\":{\"color\":\"#C8D4E3\"},\"line\":{\"color\":\"white\"}},\"type\":\"table\"}]},\"layout\":{\"annotationdefaults\":{\"arrowcolor\":\"#2a3f5f\",\"arrowhead\":0,\"arrowwidth\":1},\"autotypenumbers\":\"strict\",\"coloraxis\":{\"colorbar\":{\"outlinewidth\":0,\"ticks\":\"\"}},\"colorscale\":{\"diverging\":[[0,\"#8e0152\"],[0.1,\"#c51b7d\"],[0.2,\"#de77ae\"],[0.3,\"#f1b6da\"],[0.4,\"#fde0ef\"],[0.5,\"#f7f7f7\"],[0.6,\"#e6f5d0\"],[0.7,\"#b8e186\"],[0.8,\"#7fbc41\"],[0.9,\"#4d9221\"],[1,\"#276419\"]],\"sequential\":[[0.0,\"#0d0887\"],[0.1111111111111111,\"#46039f\"],[0.2222222222222222,\"#7201a8\"],[0.3333333333333333,\"#9c179e\"],[0.4444444444444444,\"#bd3786\"],[0.5555555555555556,\"#d8576b\"],[0.6666666666666666,\"#ed7953\"],[0.7777777777777778,\"#fb9f3a\"],[0.8888888888888888,\"#fdca26\"],[1.0,\"#f0f921\"]],\"sequentialminus\":[[0.0,\"#0d0887\"],[0.1111111111111111,\"#46039f\"],[0.2222222222222222,\"#7201a8\"],[0.3333333333333333,\"#9c179e\"],[0.4444444444444444,\"#bd3786\"],[0.5555555555555556,\"#d8576b\"],[0.6666666666666666,\"#ed7953\"],[0.7777777777777778,\"#fb9f3a\"],[0.8888888888888888,\"#fdca26\"],[1.0,\"#f0f921\"]]},\"colorway\":[\"#636efa\",\"#EF553B\",\"#00cc96\",\"#ab63fa\",\"#FFA15A\",\"#19d3f3\",\"#FF6692\",\"#B6E880\",\"#FF97FF\",\"#FECB52\"],\"font\":{\"color\":\"#2a3f5f\"},\"geo\":{\"bgcolor\":\"white\",\"lakecolor\":\"white\",\"landcolor\":\"#E5ECF6\",\"showlakes\":true,\"showland\":true,\"subunitcolor\":\"white\"},\"hoverlabel\":{\"align\":\"left\"},\"hovermode\":\"closest\",\"mapbox\":{\"style\":\"light\"},\"paper_bgcolor\":\"white\",\"plot_bgcolor\":\"#E5ECF6\",\"polar\":{\"angularaxis\":{\"gridcolor\":\"white\",\"linecolor\":\"white\",\"ticks\":\"\"},\"bgcolor\":\"#E5ECF6\",\"radialaxis\":{\"gridcolor\":\"white\",\"linecolor\":\"white\",\"ticks\":\"\"}},\"scene\":{\"xaxis\":{\"backgroundcolor\":\"#E5ECF6\",\"gridcolor\":\"white\",\"gridwidth\":2,\"linecolor\":\"white\",\"showbackground\":true,\"ticks\":\"\",\"zerolinecolor\":\"white\"},\"yaxis\":{\"backgroundcolor\":\"#E5ECF6\",\"gridcolor\":\"white\",\"gridwidth\":2,\"linecolor\":\"white\",\"showbackground\":true,\"ticks\":\"\",\"zerolinecolor\":\"white\"},\"zaxis\":{\"backgroundcolor\":\"#E5ECF6\",\"gridcolor\":\"white\",\"gridwidth\":2,\"linecolor\":\"white\",\"showbackground\":true,\"ticks\":\"\",\"zerolinecolor\":\"white\"}},\"shapedefaults\":{\"line\":{\"color\":\"#2a3f5f\"}},\"ternary\":{\"aaxis\":{\"gridcolor\":\"white\",\"linecolor\":\"white\",\"ticks\":\"\"},\"baxis\":{\"gridcolor\":\"white\",\"linecolor\":\"white\",\"ticks\":\"\"},\"bgcolor\":\"#E5ECF6\",\"caxis\":{\"gridcolor\":\"white\",\"linecolor\":\"white\",\"ticks\":\"\"}},\"title\":{\"x\":0.05},\"xaxis\":{\"automargin\":true,\"gridcolor\":\"white\",\"linecolor\":\"white\",\"ticks\":\"\",\"title\":{\"standoff\":15},\"zerolinecolor\":\"white\",\"zerolinewidth\":2},\"yaxis\":{\"automargin\":true,\"gridcolor\":\"white\",\"linecolor\":\"white\",\"ticks\":\"\",\"title\":{\"standoff\":15},\"zerolinecolor\":\"white\",\"zerolinewidth\":2}}},\"xaxis\":{\"anchor\":\"y\",\"domain\":[0.0,1.0],\"title\":{\"text\":\"Metric\"},\"categoryorder\":\"array\",\"categoryarray\":[\"precision\",\"recall\",\"accuracy\",\"f1-score\"]},\"yaxis\":{\"anchor\":\"x\",\"domain\":[0.0,1.0],\"title\":{\"text\":\"Value\"}},\"legend\":{\"title\":{\"text\":\"team, Metric\"},\"tracegroupgap\":0},\"margin\":{\"t\":60}},                        {\"responsive\": true}                    ).then(function(){\n",
              "                            \n",
              "var gd = document.getElementById('9b618e30-0a3b-4f9d-9273-c7d9b2824784');\n",
              "var x = new MutationObserver(function (mutations, observer) {{\n",
              "        var display = window.getComputedStyle(gd).display;\n",
              "        if (!display || display === 'none') {{\n",
              "            console.log([gd, 'removed!']);\n",
              "            Plotly.purge(gd);\n",
              "            observer.disconnect();\n",
              "        }}\n",
              "}});\n",
              "\n",
              "// Listen for the removal of the full notebook cells\n",
              "var notebookContainer = gd.closest('#notebook-container');\n",
              "if (notebookContainer) {{\n",
              "    x.observe(notebookContainer, {childList: true});\n",
              "}}\n",
              "\n",
              "// Listen for the clearing of the current output cell\n",
              "var outputEl = gd.closest('.output');\n",
              "if (outputEl) {{\n",
              "    x.observe(outputEl, {childList: true});\n",
              "}}\n",
              "\n",
              "                        })                };                            </script>        </div>\n",
              "</body>\n",
              "</html>"
            ]
          },
          "metadata": {}
        }
      ]
    },
    {
      "cell_type": "markdown",
      "source": [
        "## Summary\n",
        "> Few comments on our results compared with the others\n",
        "\n",
        "-Our recall rate is really good compared with others, this is our guide metric since the problem we want to solve requires as most as possible positives instances detections. \n",
        "\n",
        "-Our F1 stands high but our accuracy and precision fall, this makes sense since we have a different target here."
      ],
      "metadata": {
        "id": "w0jj8NImO8kI"
      }
    },
    {
      "cell_type": "markdown",
      "source": [
        "# SMOTE "
      ],
      "metadata": {
        "id": "27sa2FVBcSEH"
      }
    },
    {
      "cell_type": "markdown",
      "source": [
        "Link: https://imbalanced-learn.org/stable/auto_examples/over-sampling/plot_illustration_generation_sample.html"
      ],
      "metadata": {
        "id": "hQcHB79Ie7OO"
      }
    },
    {
      "cell_type": "code",
      "source": [
        "import numpy as np\n",
        "import matplotlib.pyplot as plt\n",
        "import seaborn as sns\n",
        "\n",
        "sns.set_context(\"poster\")\n",
        "\n",
        "rng = np.random.RandomState(18)\n",
        "\n",
        "f, ax = plt.subplots(figsize=(8, 8))\n",
        "\n",
        " #generate some data points\n",
        "y = np.array([3.65284, 3.52623, 3.51468, 3.22199, 3.21])\n",
        "z = np.array([0.43, 0.45, 0.6, 0.4, 0.211])\n",
        "y_2 = np.array([3.3, 3.6])\n",
        "z_2 = np.array([0.58, 0.34])\n",
        "\n",
        "# plot the majority and minority samples\n",
        "ax.scatter(z, y, label=\"Minority class\", s=100)\n",
        "ax.scatter(z_2, y_2, label=\"Majority class\", s=100)\n",
        "\n",
        "idx = rng.randint(len(y), size=2)\n",
        "annotation = [r\"$x_i$\", r\"$x_{zi}$\"]\n",
        "\n",
        "for a, i in zip(annotation, idx):\n",
        "    ax.annotate(a, (z[i], y[i]), xytext=tuple([z[i] + 0.01, y[i] + 0.005]), fontsize=15)\n",
        "newpoint = idx[0] - 0.02\n",
        "# draw the circle in which the new sample will generated\n",
        "radius = np.sqrt((z[idx[0]] - z[idx[1]]) ** 2 + (y[idx[0]] - y[idx[1]]) ** 2)\n",
        "circle = plt.Circle((z[idx[0]], y[idx[0]]), radius=radius, alpha=0.2)\n",
        "ax.add_artist(circle)    # Make the circle \n",
        "\n",
        "# plot the line on which the sample will be generated\n",
        "ax.plot(z[idx], y[idx], \"--\", alpha=0.5)\n",
        "\n",
        "#create and plot the new sample\n",
        "step = rng.uniform()\n",
        "y_gen = y[idx[0]] + step * (y[idx[1]] - y[idx[0]]) # creates the point\n",
        "z_gen = z[idx[0]] + step * (z[idx[1]] - z[idx[0]])\n",
        "\n",
        "ax.scatter(z_gen, y_gen, s=100)\n",
        "ax.annotate(\n",
        "    r\"$x_{new}$\",\n",
        "    (z_gen, y_gen),\n",
        "    xytext=tuple([z_gen + 0.01, y_gen + 0.005]),\n",
        "    fontsize=15,\n",
        ")\n",
        "\n",
        "# # make the plot nicer with legend and label\n",
        "sns.despine(ax=ax, offset=10)\n",
        "ax.set_xlim([0.2, 0.7])\n",
        "ax.set_ylim([3.2, 3.7])\n",
        "plt.xlabel(r\"$X_1$\")\n",
        "plt.ylabel(r\"$X_2$\")\n",
        "plt.legend(loc=6)\n",
        "plt.tight_layout()\n",
        "plt.savefig('Smote_point.png', bbox_inches='tight')\n",
        "plt.show()"
      ],
      "metadata": {
        "colab": {
          "base_uri": "https://localhost:8080/",
          "height": 555
        },
        "id": "H5E6-uofsi5E",
        "outputId": "95104466-107a-4d3d-fde7-f8d288e6f9aa"
      },
      "execution_count": null,
      "outputs": [
        {
          "output_type": "display_data",
          "data": {
            "text/plain": [
              "<Figure size 576x576 with 1 Axes>"
            ],
            "image/png": "[encoded data removed]"
          },
          "metadata": {
            "needs_background": "light"
          }
        }
      ]
    }
  ]
}